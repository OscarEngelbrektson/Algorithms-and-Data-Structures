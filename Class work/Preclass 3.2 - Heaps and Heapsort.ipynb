{
 "cells": [
  {
   "cell_type": "code",
   "execution_count": 12,
   "metadata": {},
   "outputs": [
    {
     "name": "stdout",
     "output_type": "stream",
     "text": [
      "[28, 21, 39, 76, 49, 29, 49, 92, 16, 15, 85, 30, 7, 31, 85]\n"
     ]
    }
   ],
   "source": [
    "#Valid max heap: [92, 85, 85, 76, 39, 30, 49, 16, 49, 15, 21, 7, 29, 31, 28]\n",
    "\n",
    "test = [x for x in range(8)]\n",
    "\n",
    "def max_heapify(a, n, i): \n",
    "    #Where A is a nearly complete binary tree; i is index of parent/child to be max_heapified.\n",
    "    largest = i\n",
    "    l = 2*i + 1 #index of left child\n",
    "    r = 2*i + 2 #index of right child\n",
    "\n",
    "    #Find largest out parents and children\n",
    "    if l < n and a[l]>a[i]:\n",
    "        largest = l\n",
    "    if r < n and a[r] < a[largest]:\n",
    "        largest = r\n",
    "        \n",
    "    #Compare child to parent: if larger, swap.\n",
    "    if largest != i:\n",
    "        a[i], a[largest] = a[largest], a[i]\n",
    "        max_heapify(a, n, largest)\n",
    "    return a\n",
    "\n",
    "def build_max_heap(a):\n",
    "    #From max_i/2 downto 0\n",
    "    n = len(a)\n",
    "    for i in range(n, -1, -1):\n",
    "        max_heapify(a, n, i)\n",
    "    return a\n",
    "\n",
    "\n",
    "pre_class = [39, 85, 85, 16, 49, 7, 49, 92, 76, 15, 21, 30, 29, 31, 28]\n",
    "print(build_max_heap(pre_class))\n"
   ]
  },
  {
   "cell_type": "code",
   "execution_count": 25,
   "metadata": {
    "scrolled": true
   },
   "outputs": [
    {
     "name": "stdout",
     "output_type": "stream",
     "text": [
      "[92, 39, 85, 85, 49, 30, 49, 16, 76, 15, 21, 7, 29, 31, 28]\n",
      "[85, 39, 28, 85, 49, 30, 49, 16, 76, 15, 21, 7, 29, 31]\n"
     ]
    }
   ],
   "source": [
    "def left(i):\n",
    "    return 2*(i+1) - 1\n",
    "\n",
    "def right(i):\n",
    "    return 2*(i+1)\n",
    "\n",
    "def max_heapify(a, i, max_i):\n",
    "    nodes = (i, left(i), right(i))\n",
    "    valid_nodes = (node for node in nodes if node <= max_i)\n",
    "    max_node = max(valid_nodes, key=lambda x:a[x])\n",
    "    if max_node != i:\n",
    "        a[i], a[max_node] = a[max_node], a[i]\n",
    "    #return a with max heap\n",
    "    return a\n",
    "\n",
    "def build_max_heap(a):\n",
    "    max_i = len(a) - 1\n",
    "    for i in range(max_i//2 + 1, -1, -1):\n",
    "        max_heapify(a, i, max_i)\n",
    "\n",
    "def heapsort(a):\n",
    "    build_max_heap(a)\n",
    "    for i in range(len(a)-1, 0, -1):\n",
    "        a[0], a[i] = a[i], a[0]\n",
    "        max_heapify(a, 0, i-1)\n",
    "\n",
    "pre_class = [39, 85, 85, 16, 49, 7, 49, 92, 76, 15, 21, 30, 29, 31, 28]\n",
    "build_max_heap(pre_class)\n",
    "print(pre_class)\n",
    "\n",
    "#def heappush(a, item):\n",
    "    \n",
    "\n",
    "\n",
    "heappop(pre_class)\n",
    "print(pre_class)"
   ]
  },
  {
   "cell_type": "code",
   "execution_count": 31,
   "metadata": {
    "collapsed": true
   },
   "outputs": [],
   "source": [
    "def heappop(a):\n",
    "    n = len(a)\n",
    "    if n == 0:\n",
    "        return print(\"Error: Empty heap\")\n",
    "    \n",
    "    #Swap first and last, then pop last.\n",
    "    a[-1], a[0] = a[0], a[-1]\n",
    "    smallest = a.pop()\n",
    "    \n",
    "    #Heapify remaining to maintain heap invariant\n",
    "    max_heapify(a, 0)\n",
    "    return smallest"
   ]
  },
  {
   "cell_type": "code",
   "execution_count": 34,
   "metadata": {},
   "outputs": [
    {
     "name": "stdout",
     "output_type": "stream",
     "text": [
      "[28, 31, 30, 85, 49, 29, 49, 16, 76, 15, 21, 7, 100]\n",
      "[30, 31, 49, 85, 49, 29, 100, 16, 76, 15, 21, 7]\n",
      "[30, 31, 49, 85, 49, 29, 100, 16, 76, 15, 21, 7, 100]\n"
     ]
    }
   ],
   "source": [
    "def heappush(a, item):\n",
    "    #Push item\n",
    "    a.append(item)\n",
    "    #Reestablish heap invariant\n",
    "    max_heapify(a, len(a))\n",
    "\n",
    "print(pre_class)\n",
    "    \n",
    "heappop(pre_class)\n",
    "print(pre_class)\n",
    "\n",
    "heappush(pre_class, 100)\n",
    "print(pre_class)"
   ]
  },
  {
   "cell_type": "code",
   "execution_count": 33,
   "metadata": {
    "collapsed": true
   },
   "outputs": [],
   "source": [
    "def max_heapify(a, i): \n",
    "    #Where A is a nearly complete binary tree; i is index of parent/child to be max_heapified.\n",
    "    largest = i\n",
    "    l = 2*i + 1 #index of left child\n",
    "    r = 2*i + 2 #index of right child\n",
    "\n",
    "    #Find largest out parents and children\n",
    "    if l < len(a) and a[l]>a[i]:\n",
    "        largest = l\n",
    "    if r < len(a) and a[r] < a[largest]:\n",
    "        largest = r\n",
    "        \n",
    "    #Compare child to parent: if larger, swap.\n",
    "    if largest != i:\n",
    "        a[i], a[largest] = a[largest], a[i]\n",
    "        max_heapify(a, largest)\n",
    "    return a"
   ]
  },
  {
   "cell_type": "code",
   "execution_count": null,
   "metadata": {
    "collapsed": true
   },
   "outputs": [],
   "source": []
  }
 ],
 "metadata": {
  "kernelspec": {
   "display_name": "Python 3",
   "language": "python",
   "name": "python3"
  },
  "language_info": {
   "codemirror_mode": {
    "name": "ipython",
    "version": 3
   },
   "file_extension": ".py",
   "mimetype": "text/x-python",
   "name": "python",
   "nbconvert_exporter": "python",
   "pygments_lexer": "ipython3",
   "version": "3.6.9"
  }
 },
 "nbformat": 4,
 "nbformat_minor": 2
}
