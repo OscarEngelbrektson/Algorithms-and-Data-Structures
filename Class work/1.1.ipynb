{
 "cells": [
  {
   "cell_type": "markdown",
   "metadata": {},
   "source": []
  },
  {
   "cell_type": "code",
   "execution_count": 29,
   "metadata": {},
   "outputs": [
    {
     "data": {
      "text/plain": [
       "True"
      ]
     },
     "execution_count": 29,
     "metadata": {},
     "output_type": "execute_result"
    }
   ],
   "source": [
    "1*10+1*2*1+10*10+10*2 == 11*12"
   ]
  },
  {
   "cell_type": "code",
   "execution_count": 28,
   "metadata": {},
   "outputs": [],
   "source": [
    "a = 12"
   ]
  },
  {
   "cell_type": "code",
   "execution_count": 27,
   "metadata": {},
   "outputs": [
    {
     "name": "stdout",
     "output_type": "stream",
     "text": [
      "Takes len(a) steps to seperate a into power of ten subcomponents, e.g. 14 -> 10 & 4; Same for b. This is insignificant compared to the other steps, so I think it is ok to not consider it? Takes a^b time to multiply. And a^b-1 steps to sum\n",
      "(a^b-1)+a^b = 2(a^b)-1, counting addition and multiplication, but disregarding the separation of a and be into the different bases of ten\n"
     ]
    },
    {
     "data": {
      "text/plain": [
       "511"
      ]
     },
     "execution_count": 27,
     "metadata": {},
     "output_type": "execute_result"
    }
   ],
   "source": [
    "print(\"Takes len(a) steps to seperate a into power of ten subcomponents, e.g. 14 -> 10 & 4; Same for b. This is insignificant compared to the other steps, so I think it is ok to not consider it? Takes a^b time to multiply. And a^b-1 steps to sum\")\n",
    "print(\"(a^b-1)+a^b = 2(a^b)-1, counting addition and multiplication, but disregarding the separation of a and be into the different bases of ten\")\n",
    "len(\"1234\")**len(\"5678\")+len(\"1234\")**len(\"5678\")-1"
   ]
  },
  {
   "cell_type": "code",
   "execution_count": 25,
   "metadata": {},
   "outputs": [
    {
     "name": "stdout",
     "output_type": "stream",
     "text": [
      "Automatic pdb calling has been turned OFF\n"
     ]
    }
   ],
   "source": [
    "%lsmagic"
   ]
  },
  {
   "cell_type": "code",
   "execution_count": null,
   "metadata": {
    "collapsed": true
   },
   "outputs": [],
   "source": []
  }
 ],
 "metadata": {
  "kernelspec": {
   "display_name": "Python 3",
   "language": "python",
   "name": "python3"
  },
  "language_info": {
   "codemirror_mode": {
    "name": "ipython",
    "version": 3
   },
   "file_extension": ".py",
   "mimetype": "text/x-python",
   "name": "python",
   "nbconvert_exporter": "python",
   "pygments_lexer": "ipython3",
   "version": "3.6.1"
  }
 },
 "nbformat": 4,
 "nbformat_minor": 2
}
