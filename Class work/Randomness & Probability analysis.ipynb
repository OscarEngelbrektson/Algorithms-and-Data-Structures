{
 "cells": [
  {
   "cell_type": "markdown",
   "metadata": {},
   "source": [
    "#  Hiring Problem\n",
    "Imagine that you need to hire a new assistant. Every day an agency sends a new assistant for you to interview. If the assistant is better than your current assistant, then you hire them. You may assume that assistant quality is uniformly distributed between 0 and 1.\n",
    "\n",
    "1. Write python code to simulate the Hire-Assistant problem. Your code should be properly commented on and you should show a couple of tests that validate your implementation.\n",
    "\n",
    "2. What is the probability that exactly one assistant will be hired?\n",
    "\n",
    "3. Plot a graph showing the average number of assistants hired on the y-axis, against the total number of applicants seen on the x-axis. Include both the theoretical estimate and an empirical estimate."
   ]
  },
  {
   "cell_type": "code",
   "execution_count": 1,
   "metadata": {
    "collapsed": true
   },
   "outputs": [],
   "source": [
    "import numpy as np\n",
    "import random\n",
    "import math\n",
    "\n",
    "def hire(n):\n",
    "    #Quality of current assistant\n",
    "    assistant = 0\n",
    "    \n",
    "    #How many assistants have been hired\n",
    "    hired = 0\n",
    "    \n",
    "    #For every candidate\n",
    "    for i in range(n):\n",
    "        candidate = np.random.random_sample()\n",
    "        #If candidate is better than assitant, hire\n",
    "        if candidate > assistant:\n",
    "            assistant = candidate\n",
    "        \n",
    "        #Increment hired\n",
    "            hired += 1\n",
    "    return hired"
   ]
  },
  {
   "cell_type": "code",
   "execution_count": 2,
   "metadata": {},
   "outputs": [
    {
     "data": {
      "image/png": "[encoded data removed]",
      "text/plain": [
       "<matplotlib.figure.Figure at 0x10f638f60>"
      ]
     },
     "metadata": {},
     "output_type": "display_data"
    }
   ],
   "source": [
    "#QUESTION 2. \n",
    "#Since any candidate better than the current assistant will be hired, \n",
    "#the only way to interview all candidates but only hire one is if the first \n",
    "#interview is with the best assistant. \n",
    "#The probability of picking a specific candidate in the first interview is 1/n.\n",
    "\n",
    "#List of hires\n",
    "hires = []\n",
    "\n",
    "#Number of runs for every value of n\n",
    "i = 1000\n",
    "\n",
    "#Number of assistants\n",
    "ns = [n for n in range(5, 10010, 1000)]\n",
    "\n",
    "\n",
    "for n in ns:\n",
    "    temp = 0\n",
    "    for _ in range(i):\n",
    "        temp += hire(n)\n",
    "    hires.append(temp/i)\n",
    "\n",
    "    \n",
    "#Plot results\n",
    "import matplotlib.pyplot as plt\n",
    "\n",
    "plt.plot(ns,hires, label = \"Hires\")\n",
    "plt.plot(ns,[math.log(n) for n in ns], \":\", label = \"Log(n)\")\n",
    "\n",
    "\n",
    "plt.title(\"Number of assistants hired vs. assistants interviewed\")\n",
    "plt.xlabel(\"Number of assistants interviewed\")\n",
    "plt.ylabel(\"Number of hires\")\n",
    "plt.legend(loc=0)\n",
    "plt.show()"
   ]
  },
  {
   "cell_type": "markdown",
   "metadata": {},
   "source": [
    "## Taking into account hiring costs and objective\n",
    "(Optional) Assume that an assistant is able to perform an amount of work each day that is equal to their “quality”. You have a total amount of work M that needs to be accomplished. Your costs are as follows:\n",
    "X = daily salary for the assistant,\n",
    "Y = fee to the employment agency,\n",
    "Z = retrenchment fee for the old assistant.\n",
    "Try to formulate an optimal stopping rule (ie. at what point should one stop requesting new potential hires from the agency?) Make any necessary assumptions to ensure the problem is well-formulated."
   ]
  },
  {
   "cell_type": "code",
   "execution_count": 23,
   "metadata": {
    "collapsed": true
   },
   "outputs": [],
   "source": [
    "def project_cost(employee, project_duration, salary):\n",
    "    return (project_duration/employee)*salary\n",
    "\n",
    "def boundedly_rational_employer(project,interview_fee, salary, retrenchment): #Disregarding interview fee\n",
    "    assistant = 0.000001\n",
    "    expenses = 0\n",
    "    days = 0\n",
    "    \n",
    "    #until project is finished\n",
    "    while project > 0:\n",
    "        \n",
    "        #Interview random employee\n",
    "        candidate = np.random.random_sample()\n",
    "        \n",
    "        #If you are expected to accomplish the project \n",
    "        #at a lower cost with candidate considering retrenchment fee, hire\n",
    "        if project_cost(assistant, project, salary) > project_cost(candidate, project, salary)+retrenchment:\n",
    "            \n",
    "            assistant = candidate\n",
    "            expenses += retrenchment\n",
    "            \n",
    "        project -= assistant\n",
    "        expenses += salary + interview_fee\n",
    "        days += 1\n",
    "    return days, expenses"
   ]
  },
  {
   "cell_type": "code",
   "execution_count": 31,
   "metadata": {},
   "outputs": [
    {
     "data": {
      "text/plain": [
       "(104, 72.90000000000002)"
      ]
     },
     "execution_count": 31,
     "metadata": {},
     "output_type": "execute_result"
    }
   ],
   "source": [
    "boundedly_rational_employer(100, 0.1, 0.5, 3.5)"
   ]
  },
  {
   "cell_type": "code",
   "execution_count": 32,
   "metadata": {},
   "outputs": [
    {
     "data": {
      "text/plain": [
       "(105, 87.49999999999986)"
      ]
     },
     "execution_count": 32,
     "metadata": {},
     "output_type": "execute_result"
    }
   ],
   "source": [
    "#Comparison\n",
    "#In time to complete and days\n",
    "def hire(project, interview_fee, salary, retrenchment):\n",
    "    #Quality of current assistant\n",
    "    assistant = 0\n",
    "    expenses = 0\n",
    "    days = 0\n",
    "    \n",
    "    #For every candidate\n",
    "    while project > 0:\n",
    "        \n",
    "        #Interview random employee\n",
    "        candidate = np.random.random_sample()\n",
    "        \n",
    "        #If candidate is better than assitant, hire\n",
    "        if candidate > assistant:\n",
    "            assistant = candidate\n",
    "        \n",
    "            #Increment expenses\n",
    "            expenses += retrenchment\n",
    "        \n",
    "        days += 1\n",
    "        expenses += salary + interview_fee\n",
    "        project -= assistant\n",
    "        \n",
    "    return days, expenses\n",
    "\n",
    "hire(100, 0.1, 0.5, 3.5)"
   ]
  },
  {
   "cell_type": "code",
   "execution_count": 6,
   "metadata": {},
   "outputs": [
    {
     "ename": "TypeError",
     "evalue": "hire() missing 3 required positional arguments: 'interview_fee', 'salary', and 'retrenchment'",
     "output_type": "error",
     "traceback": [
      "\u001b[0;31m---------------------------------------------------------------------------\u001b[0m",
      "\u001b[0;31mTypeError\u001b[0m                                 Traceback (most recent call last)",
      "\u001b[0;32m<ipython-input-6-fce78c5ddb15>\u001b[0m in \u001b[0;36m<module>\u001b[0;34m()\u001b[0m\n\u001b[1;32m     12\u001b[0m     \u001b[0mtemp\u001b[0m \u001b[0;34m=\u001b[0m \u001b[0;36m0\u001b[0m\u001b[0;34m\u001b[0m\u001b[0m\n\u001b[1;32m     13\u001b[0m     \u001b[0;32mfor\u001b[0m \u001b[0m_\u001b[0m \u001b[0;32min\u001b[0m \u001b[0mrange\u001b[0m\u001b[0;34m(\u001b[0m\u001b[0mi\u001b[0m\u001b[0;34m)\u001b[0m\u001b[0;34m:\u001b[0m\u001b[0;34m\u001b[0m\u001b[0m\n\u001b[0;32m---> 14\u001b[0;31m         \u001b[0mtemp\u001b[0m \u001b[0;34m+=\u001b[0m \u001b[0mhire\u001b[0m\u001b[0;34m(\u001b[0m\u001b[0mn\u001b[0m\u001b[0;34m)\u001b[0m\u001b[0;34m\u001b[0m\u001b[0m\n\u001b[0m\u001b[1;32m     15\u001b[0m     \u001b[0mhires\u001b[0m\u001b[0;34m.\u001b[0m\u001b[0mappend\u001b[0m\u001b[0;34m(\u001b[0m\u001b[0mtemp\u001b[0m\u001b[0;34m/\u001b[0m\u001b[0mi\u001b[0m\u001b[0;34m)\u001b[0m\u001b[0;34m\u001b[0m\u001b[0m\n\u001b[1;32m     16\u001b[0m \u001b[0;34m\u001b[0m\u001b[0m\n",
      "\u001b[0;31mTypeError\u001b[0m: hire() missing 3 required positional arguments: 'interview_fee', 'salary', and 'retrenchment'"
     ]
    }
   ],
   "source": [
    "#List of hires\n",
    "hires = []\n",
    "\n",
    "#Number of runs for every value of n\n",
    "i = 1000\n",
    "\n",
    "#Number of assistants\n",
    "ns = [n for n in range(5, 10010, 1000)]\n",
    "\n",
    "\n",
    "for n in ns:\n",
    "    temp1 = 0\n",
    "    temp2 = 0\n",
    "    for _ in range(i):\n",
    "        temp1 += hire(100, 0.1, 0.5, 3.5)\n",
    "        temp2 += \n",
    "    hires.append(temp/i)\n",
    "\n",
    "    \n",
    "#Plot results\n",
    "import matplotlib.pyplot as plt\n",
    "\n",
    "plt.plot(ns,hires, label = \"Hires\")\n",
    "\n",
    "\n",
    "plt.title(\"Number of assistants hired vs. assistants interviewed\")\n",
    "plt.xlabel(\"Number of assistants interviewed\")\n",
    "plt.ylabel(\"Number of hires\")\n",
    "plt.legend(loc=0)\n",
    "plt.show()"
   ]
  },
  {
   "cell_type": "code",
   "execution_count": 29,
   "metadata": {},
   "outputs": [
    {
     "data": {
      "text/plain": [
       "(103, 75.8)"
      ]
     },
     "execution_count": 29,
     "metadata": {},
     "output_type": "execute_result"
    }
   ],
   "source": [
    "def project_cost(employee, project_duration, salary):\n",
    "    return project_duration/employee*salary\n",
    "\n",
    "#Assumes knowledge of candidate distribution to calculate expected utility of interview\n",
    "def rational_employer(project,interview_fee, salary, retrenchment): #Disregarding interview fee\n",
    "    assistant = 0.000001\n",
    "    expenses = 0\n",
    "    days = 0\n",
    "    \n",
    "    #until project is finished\n",
    "    while project > 0:\n",
    "        \n",
    "        \n",
    "        #Since distribution is uniform, the expected improvement of a better candidate\n",
    "        #is the average of all possible better candidates -> (1-assistant/2)\n",
    "        average_benefit = project_cost(assistant, project, salary)-(project_cost((1-assistant/2), project, salary)+retrenchment)\n",
    "        \n",
    "        #(1-assistant) is probability of interviewing a candidate better than assistant\n",
    "        probability = (1-assistant)\n",
    "        \n",
    "        #Is the expected utility, in terms of costs, positive for interview?\n",
    "        if  average_benefit*probability > interview_fee:\n",
    "        #Interview random employee\n",
    "            candidate = np.random.random_sample()\n",
    "        \n",
    "            #If you are expected to accomplish the project \n",
    "            #at a lower cost with candidate considering retrenchment fee, hire\n",
    "            if project_cost(assistant, project, salary) > project_cost(candidate, project, salary)+retrenchment:\n",
    "                assistant = candidate\n",
    "                expenses += retrenchment\n",
    "            \n",
    "        project -= assistant\n",
    "        expenses += salary + interview_fee\n",
    "        days += 1\n",
    "    return days, expenses\n",
    "\n",
    "rational_employer(100, 0.1, 0.5, 7)"
   ]
  },
  {
   "cell_type": "code",
   "execution_count": 13,
   "metadata": {},
   "outputs": [
    {
     "name": "stdout",
     "output_type": "stream",
     "text": [
      "396.3315789473684\n"
     ]
    }
   ],
   "source": [
    "assistant = 0.1\n",
    "salary = 0.5\n",
    "retrenchment = 7\n",
    "project = 100\n",
    "\n",
    "average_benefit = project_cost(assistant, project, salary)-(project_cost((1-assistant/2), project, salary)+retrenchment)\n",
    "        \n",
    "#(1-assistant) is probability of interviewing a candidate better than assistant\n",
    "probability = (1-assistant)\n",
    "        \n",
    "print(average_benefit*probability)"
   ]
  },
  {
   "cell_type": "markdown",
   "metadata": {},
   "source": [
    "# Hat problem\n",
    "An attendant at a party of N people receives everyone’s hats. However, he forgets whose hat belongs to whom. Rather than admit his mistake, he simply gives random hats back to everyone.\n",
    "\n",
    "1. Write python code to simulate this problem. Your code should be properly commented on and you should show a couple of tests that validate your implementation.\n",
    "\n",
    "2. What is the average number of correct hats returned? How does this scale as a function of N?\n",
    "\n",
    "3. (Optional) As N tends to infinity, the number of correct hats returned tends towards a well-known statistical distribution. State the distribution with all its parameters. Draw lots of samples using your code. Does the empirical distribution match your theoretical prediction?"
   ]
  },
  {
   "cell_type": "code",
   "execution_count": 33,
   "metadata": {
    "collapsed": true
   },
   "outputs": [],
   "source": [
    "def hat_mess(n):\n",
    "    right = 0\n",
    "    people = [x for x in range(n)]\n",
    "    hats = random.sample(people, n)\n",
    "    for i in range(n):\n",
    "        if hats[i] == people[i]:\n",
    "            right += 1\n",
    "    return right/n"
   ]
  },
  {
   "cell_type": "code",
   "execution_count": 34,
   "metadata": {},
   "outputs": [
    {
     "data": {
      "image/png": "[encoded data removed]",
      "text/plain": [
       "<matplotlib.figure.Figure at 0x109e0b518>"
      ]
     },
     "metadata": {},
     "output_type": "display_data"
    }
   ],
   "source": [
    "ns = [n for n in range(5, 500, 10)]\n",
    "i = 100\n",
    "\n",
    "success_rate = []\n",
    "for n in ns:\n",
    "    temp_success_rate = 0\n",
    "    for _ in range(i):\n",
    "        temp_success_rate += hat_mess(n)\n",
    "    success_rate.append(temp_success_rate/i)\n",
    "    \n",
    "    \n",
    "#Plot results\n",
    "import matplotlib.pyplot as plt\n",
    "plt.plot(ns,success_rate, alpha = 0.5, label = \"Simulation\")\n",
    "\n",
    "distribution = [1/n for n in ns]\n",
    "plt.plot(ns, distribution, \":\", label = \"1/people\")\n",
    "plt.title(\"Fraction of correct hats vs. number of people\")\n",
    "plt.xlabel(\"Number of people\")\n",
    "plt.ylabel(\"Fraction of right hats\")\n",
    "plt.legend(loc=0)\n",
    "plt.show()"
   ]
  },
  {
   "cell_type": "markdown",
   "metadata": {
    "collapsed": true
   },
   "source": [
    "# Prisoner Light Bulb Problem"
   ]
  },
  {
   "cell_type": "code",
   "execution_count": 14,
   "metadata": {
    "collapsed": true
   },
   "outputs": [],
   "source": [
    "import numpy as np\n",
    "import random\n",
    "\n",
    "def prisoner_problem(n):\n",
    "    \n",
    "    prisoners = np.zeros(n)\n",
    "    prisoners[0] = 1\n",
    "    \n",
    "    light = 0\n",
    "    days = 0\n",
    "    \n",
    "    while True:\n",
    "        days += 1\n",
    "        prisoner_id = random.randint(0,99)\n",
    "        \n",
    "        if prisoner_id == 0:\n",
    "            if 0 not in prisoners:\n",
    "                break\n",
    "            if light == 1:\n",
    "                light = 0\n",
    "        \n",
    "        #If not chosen one,\n",
    "        elif light == 0 and prisoners[prisoner_id] == 0:\n",
    "            prisoners[prisoner_id] =1\n",
    "            light = 1\n",
    "    \n",
    "    return days\n",
    "    \n",
    "    "
   ]
  },
  {
   "cell_type": "code",
   "execution_count": 16,
   "metadata": {},
   "outputs": [
    {
     "data": {
      "text/plain": [
       "10417.403"
      ]
     },
     "execution_count": 16,
     "metadata": {},
     "output_type": "execute_result"
    }
   ],
   "source": [
    "average = 0\n",
    "for i in range(1000):\n",
    "    average+= prisoner_problem(100)\n",
    "average/1000"
   ]
  },
  {
   "cell_type": "raw",
   "metadata": {},
   "source": [
    "print(prisoner_id = prisoners[random.randint(0,99)])"
   ]
  },
  {
   "cell_type": "code",
   "execution_count": 18,
   "metadata": {},
   "outputs": [
    {
     "data": {
      "text/plain": [
       "28.5408301369863"
      ]
     },
     "execution_count": 18,
     "metadata": {},
     "output_type": "execute_result"
    }
   ],
   "source": [
    "10417.403/365"
   ]
  },
  {
   "cell_type": "code",
   "execution_count": null,
   "metadata": {
    "collapsed": true
   },
   "outputs": [],
   "source": []
  }
 ],
 "metadata": {
  "kernelspec": {
   "display_name": "Python 3",
   "language": "python",
   "name": "python3"
  },
  "language_info": {
   "codemirror_mode": {
    "name": "ipython",
    "version": 3
   },
   "file_extension": ".py",
   "mimetype": "text/x-python",
   "name": "python",
   "nbconvert_exporter": "python",
   "pygments_lexer": "ipython3",
   "version": "3.6.8"
  }
 },
 "nbformat": 4,
 "nbformat_minor": 2
}
