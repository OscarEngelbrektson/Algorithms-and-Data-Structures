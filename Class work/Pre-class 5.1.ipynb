{
 "cells": [
  {
   "cell_type": "markdown",
   "metadata": {},
   "source": [
    "Pre-class Work\n",
    "\n",
    "A- Write the worst sort function in the world. This function takes a list, and then randomly shuffles it until it happens to be in sorted order. Once it is in sorted order then the list is returned.\n",
    "1. Write the necessary python code to do this. Your code should be properly commented on and you should show a couple of tests that validate your implementation.\n",
    "2. What is the best case complexity of this algorithm?\n",
    "3. What is the average case complexity of your implementation?\n",
    "4. For what size lists is this a feasible method?\n",
    "5. (Optional) Can you think of an even worse sorting method? In such a case, what would its complexity be? How big a list could you sort?"
   ]
  },
  {
   "cell_type": "code",
   "execution_count": 3,
   "metadata": {
    "collapsed": true
   },
   "outputs": [],
   "source": [
    "import numpy as np\n",
    "import random\n",
    "import math\n",
    "import time\n",
    "\n",
    "def worst_sort(a):\n",
    "    sort = False\n",
    "    \n",
    "    #until list is sorted\n",
    "    while sort == False:\n",
    "        \n",
    "        #Shuffle list randomly\n",
    "        a = random.sample(a, len(a))\n",
    "        \n",
    "        #Is every item is smaller than the subsequent one\n",
    "        sort = all(a[i] <= a[i+1] for i in range(len(a)-1))\n",
    "        \n",
    "    return a"
   ]
  },
  {
   "cell_type": "code",
   "execution_count": 12,
   "metadata": {},
   "outputs": [
    {
     "name": "stdout",
     "output_type": "stream",
     "text": [
      "[1, 2, 4, 5, 6]\n",
      "[-2, 0.55, 2, 12, 23]\n",
      "[1, 3, 5, 5, 5]\n",
      "[1, 1, 2, 6, 24, 120, 720, 5040, 40320, 362880, 3628800, 39916800, 479001600, 6227020800, 87178291200]\n"
     ]
    }
   ],
   "source": [
    "#Check it works\n",
    "test1 = [5,2,1,6,4]\n",
    "test2 = [-2, 12, 23, 0.55, 2]\n",
    "test3 = [5, 3, 5, 1, 5]\n",
    "\n",
    "print(worst_sort(test1))\n",
    "print(worst_sort(test2))\n",
    "print(worst_sort(test3))\n",
    "\n",
    "\n",
    "#Question 2\n",
    "'''\n",
    "In the best case, the first random shuffle of the array yields a sorted array. This is O(1).\n",
    "'''\n",
    "\n",
    "#Question 3\n",
    "'''\n",
    "Assume that the array contains no duplicates.\n",
    "For an array to be sorted, each element must be at a specific position,\n",
    "where it is larger than the previous but smaller than the following element.\n",
    "If we have a list of length 3, the probability of the first element being in the right place is 1/3.\n",
    "If one element is in the right place, the probability of the next one being in the right place is 1/(3-1).\n",
    "This extends to the n case, the complexity is 1/n + 1/n-1 + 1/n-2 ... 1/1.\n",
    "That means we can expect the runtime to be n factorial. O(n!)\n",
    "'''\n",
    "\n",
    "#Question 4\n",
    "'''\n",
    "This is not a hardware course, but given the complexity of the algorithm, it depends on the computational power \n",
    "of the computer. However, for any given level of computing power this sorting algorithm will perform worse \n",
    "standard sorting algorithms, regardless of n.\n",
    "'''\n",
    "\n",
    "#The expected number of random shuffles before a correctly sorted array, as a function of n.\n",
    "print([math.factorial(n) for n in range(15)])"
   ]
  },
  {
   "cell_type": "code",
   "execution_count": null,
   "metadata": {
    "collapsed": true
   },
   "outputs": [],
   "source": [
    "#Evaluating optimal value for k by comparing run times\n",
    "\n",
    "import time\n",
    "import numpy as np\n",
    "runtime = []\n",
    "#insertion_time = []\n",
    "\n",
    "i = 30 #Number of times to run random arrays of size n\n",
    "ns = [n for n in range(5, 25010, 10)]\n",
    "for n in ns:\n",
    "    temp = 0\n",
    "    #insertion_temp = 0\n",
    "    for _ in range(i):\n",
    "        #t=2\n",
    "        start = time.time()\n",
    "        worst_sort(\n",
    "            list(np.random.randint(-100, 100, n)))\n",
    "        end = time.time()\n",
    "        temp += (end - start)\n",
    "\n",
    "    runtime.append(temp/i)\n",
    "    \n",
    "    if runtime[-1] > 1:\n",
    "        print(n)\n",
    "        break"
   ]
  },
  {
   "cell_type": "markdown",
   "metadata": {},
   "source": [
    "B- Write an approximate median finder. Given a list and δ (a number between 0 and 0.5), the median finder function returns a number that is guaranteed to lie between the (50-δ/2)% and (50+δ/2)% percentiles. Implement such a function by randomly selecting an element from the list and testing whether or not it lies within the bounds. If it doesn’t then decide whether or not to retry with a new random element. If you decide not to retry, then the procedure fails.\n",
    "1. Come up with your own policy of how many times to retry. What is your probability of failure? Does it scale with N or δ?\n",
    "2. Write the necessary python code to do this. Your code should be properly commented on and you should show a couple of tests that validate your implementation.\n",
    "3. Analyze the time complexity, both theoretically and experimentally.\n",
    "4. Analyze the space complexity. (Think about using the tools for time complexity on memory).\n",
    "5. (Optional) Are there any optimizations you can make without changing the space/time complexity?"
   ]
  },
  {
   "cell_type": "code",
   "execution_count": 13,
   "metadata": {
    "collapsed": true
   },
   "outputs": [],
   "source": [
    "def approximate_median(a, error):\n",
    "    #Check if rules are followed\n",
    "    if error > 0.5 or error < 0:\n",
    "        return print(\"Error: error out of bounds\")\n",
    "    \n",
    "    #Define lower and upper bound for approximation\n",
    "    lower = np.percentile(a, 50-error/2)\n",
    "    upper = np.percentile(a, 50+error/2)\n",
    "    \n",
    "    #Initialize found bool and interation counter\n",
    "    found, counter = False, 0\n",
    "    \n",
    "    #Until approximate median is found\n",
    "    while not found:\n",
    "        \n",
    "        #Pick a random number\n",
    "        test = random.choice(a)\n",
    "        \n",
    "        #Check if within bounds\n",
    "        if test >= lower and test <= upper:\n",
    "            return test\n",
    "        \n",
    "        #Increment counter\n",
    "        counter += 1\n",
    "        \n",
    "        #If nunber of tries is exceeded, scales with n.\n",
    "        if counter > len(a)*50:\n",
    "            return print(\"Error: Median not found\")"
   ]
  },
  {
   "cell_type": "code",
   "execution_count": 28,
   "metadata": {},
   "outputs": [
    {
     "name": "stdout",
     "output_type": "stream",
     "text": [
      "Error: Median not found\n",
      "Error: Median not found\n",
      "Error: Median not found\n"
     ]
    },
    {
     "data": {
      "text/plain": [
       "True"
      ]
     },
     "execution_count": 28,
     "metadata": {},
     "output_type": "execute_result"
    }
   ],
   "source": [
    "#Check that it works\n",
    "\n",
    "import statistics\n",
    "\n",
    "def approximate_median_checker():\n",
    "    j = 0\n",
    "    correct = True\n",
    "    \n",
    "    #Check up to 50 times\n",
    "    while j <= 50 and correct:\n",
    "        \n",
    "        #On random list of length between 0 and 1000, \n",
    "        #with values between -100 and 100\n",
    "        test_array = list(np.random.randint(\n",
    "            -100, 100, np.random.randint(0, 1000, 1)))\n",
    "        \n",
    "        #Sort using built-in function\n",
    "        a = statistics.median(test_array)\n",
    "        \n",
    "        b = approximate_median(test_array, 0.5)\n",
    "        \n",
    "        \n",
    "        #Check if it found an approximate median\n",
    "        if type(b) == int:\n",
    "            \n",
    "            #If sorted arrays don't match, return False\n",
    "            if a+0.5/2 >= b and a-0.5/2 <= b:\n",
    "                correct = False\n",
    "        \n",
    "        #increment j    \n",
    "        j += 1\n",
    "        \n",
    "    return correct\n",
    "\n",
    "approximate_median_checker()\n",
    "\n",
    "#Question 3\n",
    "'''\n",
    "Assuming the acceptable error is small enough that only one element falls inside it,\n",
    "the probability of randomly selecting that number from an array of n elements is 1/n -> O(n)\n",
    "I did n*50 tries as the stop condition, to account for moderately bad-luck deviations from best case\n",
    "'''"
   ]
  },
  {
   "cell_type": "code",
   "execution_count": 35,
   "metadata": {},
   "outputs": [
    {
     "data": {
      "image/png": "[encoded data removed]",
      "text/plain": [
       "<matplotlib.figure.Figure at 0x1188d5400>"
      ]
     },
     "metadata": {},
     "output_type": "display_data"
    },
    {
     "data": {
      "text/plain": [
       "'\\nThe plot supports the complexity = 0(n) from theoretical analysis\\n'"
      ]
     },
     "execution_count": 35,
     "metadata": {},
     "output_type": "execute_result"
    }
   ],
   "source": [
    "#Run time\n",
    "\n",
    "import time\n",
    "import numpy as np\n",
    "runtime = []\n",
    "\n",
    "i = 10000 #Number of times to run random arrays of size n\n",
    "ns = [n for n in range(5, 200, 10)]\n",
    "for n in ns:\n",
    "    temp = 0\n",
    "    #insertion_temp = 0\n",
    "    for _ in range(i):\n",
    "        start = time.time()\n",
    "        approximate_median(\n",
    "            list(np.random.randint(-100, 100, n)), 0.5)\n",
    "        end = time.time()\n",
    "        temp += (end - start)\n",
    "\n",
    "    runtime.append(temp/i)\n",
    "    \n",
    "#Plot results\n",
    "import matplotlib.pyplot as plt\n",
    "\n",
    "plt.plot(ns,runtime, label = \"Acceptable error=0.5\")\n",
    "\n",
    "plt.title(\"Run Time\")\n",
    "plt.xlabel(\"n\")\n",
    "plt.ylabel(\"Runtime (s)\")\n",
    "plt.legend(loc=0)\n",
    "plt.show()\n",
    "\n",
    "\n",
    "#Question 3 empirical\n",
    "'''\n",
    "The plot supports the complexity = 0(n) from theoretical analysis\n",
    "'''\n",
    "\n",
    "#Question 4\n",
    "'''\n",
    "We store the input array of size n. The lower and upper bound, size 2. And the test, size 1.\n",
    "The spatial complexity is dominated by the size of the array, n. -> O(n) spatial complexity.\n",
    "'''"
   ]
  },
  {
   "cell_type": "code",
   "execution_count": null,
   "metadata": {
    "collapsed": true
   },
   "outputs": [],
   "source": [
    "import matplotlib.pyplot as plt\n",
    "#ns = [n for n in range(5, 110, 5)]\n",
    "ns = [n for n in range(5, 10010, 1000)]\n",
    "\n"
   ]
  },
  {
   "cell_type": "code",
   "execution_count": 6,
   "metadata": {},
   "outputs": [
    {
     "name": "stdout",
     "output_type": "stream",
     "text": [
      "location and guess are 1 0\n"
     ]
    },
    {
     "data": {
      "text/plain": [
       "0"
      ]
     },
     "execution_count": 6,
     "metadata": {},
     "output_type": "execute_result"
    }
   ],
   "source": [
    "import random\n",
    "random.seed(123) \n",
    "def max_retries(N, delta):\n",
    "    return 1/delta\n",
    "\n",
    "def approx_median_breakout(lst, delta):\n",
    "    n = len(lst)\n",
    "    mx = int(max_retries(n, delta))\n",
    "    for a in range(mx):\n",
    "        idx = random.randint(0,n-1)\n",
    "        guess = lst[idx]\n",
    "        less = [1 for x in lst if guess < x]\n",
    "        location = sum(less)\n",
    "        if ((n*(1-delta)/2 < location) and (location< n*(1+delta)/2)):\n",
    "            print('location and guess are', location, guess)\n",
    "            return guess\n",
    "    raise ValueError(\"No median found\")\n",
    "\n",
    "approx_median_breakout([0,1], 0.1)\n"
   ]
  },
  {
   "cell_type": "code",
   "execution_count": null,
   "metadata": {
    "collapsed": true
   },
   "outputs": [],
   "source": []
  }
 ],
 "metadata": {
  "kernelspec": {
   "display_name": "Python 3",
   "language": "python",
   "name": "python3"
  },
  "language_info": {
   "codemirror_mode": {
    "name": "ipython",
    "version": 3
   },
   "file_extension": ".py",
   "mimetype": "text/x-python",
   "name": "python",
   "nbconvert_exporter": "python",
   "pygments_lexer": "ipython3",
   "version": "3.6.1"
  }
 },
 "nbformat": 4,
 "nbformat_minor": 2
}
