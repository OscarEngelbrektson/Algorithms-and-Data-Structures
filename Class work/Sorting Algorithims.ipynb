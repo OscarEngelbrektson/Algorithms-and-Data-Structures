{
 "cells": [
  {
   "cell_type": "code",
   "execution_count": 1,
   "metadata": {
    "collapsed": true
   },
   "outputs": [],
   "source": [
    "import numpy as np\n",
    "import time \n",
    "import matplotlib.pyplot as plt"
   ]
  },
  {
   "cell_type": "code",
   "execution_count": 2,
   "metadata": {
    "collapsed": true
   },
   "outputs": [],
   "source": [
    "test1 = [5,2,1,6,4]\n",
    "test2 = [-2, 12, 23, 0.55, 2]\n",
    "test3 = [5, 3, 5, 1, 5]"
   ]
  },
  {
   "cell_type": "markdown",
   "metadata": {},
   "source": [
    "# Insertion Sort"
   ]
  },
  {
   "cell_type": "code",
   "execution_count": 3,
   "metadata": {},
   "outputs": [],
   "source": [
    "#Insertion Sort\n",
    "\n",
    "def insertion_sort(a):\n",
    "    for i in range(1, len(a)):\n",
    "        current = a[i]\n",
    "        j = i -1\n",
    "        #Compare element to the left, if larger swap. Repeat.\n",
    "        while j>=0 and a[j]>current:\n",
    "            a[j+1] = a[j]\n",
    "            j -=1\n",
    "        a[j+1] = current\n",
    "    return a\n",
    "            \n",
    "            "
   ]
  },
  {
   "cell_type": "code",
   "execution_count": 4,
   "metadata": {
    "scrolled": true
   },
   "outputs": [
    {
     "name": "stdout",
     "output_type": "stream",
     "text": [
      "[1, 2, 4, 5, 6]\n",
      "[-2, 0.55, 2, 12, 23]\n",
      "[1, 3, 5, 5, 5]\n"
     ]
    },
    {
     "data": {
      "text/plain": [
       "[1]"
      ]
     },
     "execution_count": 4,
     "metadata": {},
     "output_type": "execute_result"
    }
   ],
   "source": [
    "print(insertion_sort(test1))\n",
    "print(insertion_sort(test2))\n",
    "print(insertion_sort(test3))\n",
    "insertion_sort([1])"
   ]
  },
  {
   "cell_type": "markdown",
   "metadata": {},
   "source": [
    "# Selection Sort"
   ]
  },
  {
   "cell_type": "code",
   "execution_count": 5,
   "metadata": {},
   "outputs": [],
   "source": [
    "def selection_sort(a):\n",
    "    for i in range(len(a)):\n",
    "        store = a[i]\n",
    "        j = i +1\n",
    "        \n",
    "        while j < len(a):\n",
    "            if a[j]<store:\n",
    "                store = a[j]\n",
    "            j = j +1\n",
    "            \n",
    "        a[a.index(store)] = a[i]\n",
    "        a[i]  = store\n",
    "        \n",
    "    return a"
   ]
  },
  {
   "cell_type": "code",
   "execution_count": 6,
   "metadata": {},
   "outputs": [
    {
     "name": "stdout",
     "output_type": "stream",
     "text": [
      "[1, 2, 4, 5, 6]\n",
      "[-2, 0.55, 2, 12, 23]\n",
      "[1, 3, 5, 5, 5]\n"
     ]
    },
    {
     "data": {
      "text/plain": [
       "[1]"
      ]
     },
     "execution_count": 6,
     "metadata": {},
     "output_type": "execute_result"
    }
   ],
   "source": [
    "print(selection_sort(test1))\n",
    "print(selection_sort(test2))\n",
    "print(selection_sort(test3))\n",
    "selection_sort([1])"
   ]
  },
  {
   "cell_type": "markdown",
   "metadata": {},
   "source": [
    "# Merge Sort"
   ]
  },
  {
   "cell_type": "code",
   "execution_count": 7,
   "metadata": {
    "collapsed": true
   },
   "outputs": [],
   "source": [
    "def merge_sort(a):\n",
    "    if len(a) > 1:\n",
    "        #Split array in half\n",
    "        mid_point = len(a)//2\n",
    "        L = a[:mid_point]\n",
    "        R = a[mid_point:]\n",
    "        \n",
    "        merge_sort(L)\n",
    "        merge_sort(R)\n",
    "        \n",
    "        i = j = k = 0\n",
    "        #Compare elements in each half until one half is \"empty\"\n",
    "        while len(L) > i and len(R) > j:\n",
    "            if L[i] < R[j]:\n",
    "                a[k] = L[i]\n",
    "                i += 1\n",
    "                k+=1\n",
    "            else: \n",
    "                a[k] = R[j]\n",
    "                j += 1\n",
    "                k += 1\n",
    "                \n",
    "        #Remove those left in other hand, if any   \n",
    "        while len(L) > i:\n",
    "            a[k] = L[i]\n",
    "            i +=1\n",
    "            k +=1\n",
    "        \n",
    "        while len(R) > j:\n",
    "            a[k] = R[j]\n",
    "            j +=1\n",
    "            k +=1\n",
    "    return a"
   ]
  },
  {
   "cell_type": "code",
   "execution_count": 8,
   "metadata": {},
   "outputs": [
    {
     "name": "stdout",
     "output_type": "stream",
     "text": [
      "[1, 2, 4, 5, 6]\n",
      "[-2, 0.55, 2, 12, 23]\n",
      "[1, 3, 5, 5, 5]\n"
     ]
    },
    {
     "data": {
      "text/plain": [
       "[1]"
      ]
     },
     "execution_count": 8,
     "metadata": {},
     "output_type": "execute_result"
    }
   ],
   "source": [
    "print(merge_sort(test1))\n",
    "print(merge_sort(test2))\n",
    "print(merge_sort(test3))\n",
    "merge_sort([1])"
   ]
  },
  {
   "cell_type": "code",
   "execution_count": 9,
   "metadata": {},
   "outputs": [
    {
     "data": {
      "text/plain": [
       "[0, 1, 2, 3, 4]"
      ]
     },
     "execution_count": 9,
     "metadata": {},
     "output_type": "execute_result"
    }
   ],
   "source": [
    "[x for x in range(5)]"
   ]
  },
  {
   "cell_type": "markdown",
   "metadata": {},
   "source": [
    "# Bubble Sort"
   ]
  },
  {
   "cell_type": "code",
   "execution_count": 10,
   "metadata": {
    "collapsed": true
   },
   "outputs": [],
   "source": [
    "def bubble_sort(a):\n",
    "    for i in range(len(a)):\n",
    "        #Compare adjacent element, if smaller swap. Repeat.\n",
    "        for j in range(len(a)-i-1):\n",
    "            if a[j] > a[j+1]:\n",
    "                a[j],a[j+1] = a[j+1],a[j]\n",
    "        \n",
    "        #Repeat n times\n",
    "        i -= 1\n",
    "    return a"
   ]
  },
  {
   "cell_type": "code",
   "execution_count": 11,
   "metadata": {},
   "outputs": [
    {
     "name": "stdout",
     "output_type": "stream",
     "text": [
      "[1, 2, 4, 5, 6]\n",
      "[-2, 0.55, 2, 12, 23]\n",
      "[1, 3, 5, 5, 5]\n",
      "[1]\n"
     ]
    }
   ],
   "source": [
    "print(bubble_sort(test1))\n",
    "print(bubble_sort(test2))\n",
    "print(bubble_sort(test3))\n",
    "print(bubble_sort([1]))"
   ]
  },
  {
   "cell_type": "markdown",
   "metadata": {},
   "source": [
    "# Plot of running time of different sorting algos"
   ]
  },
  {
   "cell_type": "code",
   "execution_count": 21,
   "metadata": {
    "collapsed": true
   },
   "outputs": [],
   "source": [
    "ns = [x*100 for x in range(100)]"
   ]
  },
  {
   "cell_type": "code",
   "execution_count": 22,
   "metadata": {},
   "outputs": [],
   "source": [
    "merge_sort_time = []\n",
    "for n in ns:\n",
    "    times = []\n",
    "    for i in range(1):\n",
    "        a = np.random.randint(-100, 100, n)\n",
    "        start = time.time()\n",
    "        merge_sort(a)\n",
    "        end = time.time()\n",
    "        times.append(end-start)\n",
    "    merge_sort_time.append(np.mean(times))"
   ]
  },
  {
   "cell_type": "code",
   "execution_count": 23,
   "metadata": {},
   "outputs": [],
   "source": [
    "insertion_sort_time = []\n",
    "for n in ns:\n",
    "    times = []\n",
    "    for i in range(1):\n",
    "        a = np.random.randint(-100, 100, n)\n",
    "        start = time.time()\n",
    "        insertion_sort(a)\n",
    "        end = time.time()\n",
    "        times.append(end-start)\n",
    "    insertion_sort_time.append(np.mean(times))"
   ]
  },
  {
   "cell_type": "code",
   "execution_count": null,
   "metadata": {},
   "outputs": [],
   "source": [
    "bubble_sort_time = []\n",
    "for n in ns:\n",
    "    times = []\n",
    "    for i in range(1):\n",
    "        a = np.random.randint(-100, 100, n)\n",
    "        start = time.time()\n",
    "        bubble_sort(a)\n",
    "        end = time.time()\n",
    "        times.append(end-start)\n",
    "    bubble_sort_time.append(np.mean(times))"
   ]
  },
  {
   "cell_type": "code",
   "execution_count": null,
   "metadata": {},
   "outputs": [],
   "source": [
    "selection_sort_time = []\n",
    "for n in ns:\n",
    "    times = []\n",
    "    for i in range(1):\n",
    "        a = list(np.random.randint(-100, 100, n))\n",
    "        start = time.time()\n",
    "        selection_sort(a)\n",
    "        end = time.time()\n",
    "        times.append(end-start)\n",
    "    selection_sort_time.append(np.mean(times))"
   ]
  },
  {
   "cell_type": "code",
   "execution_count": null,
   "metadata": {},
   "outputs": [],
   "source": [
    "plt.plot(ns,merge_sort_time, label = \"Merge Sort\")\n",
    "plt.plot(ns,selection_sort_time, label = \"Selection Sort\")\n",
    "plt.plot(ns,insertion_sort_time, label = \"Insertion Sort\")\n",
    "plt.plot(ns,bubble_sort_time, label = \"Bubble Sort\")\n",
    "\n",
    "plt.title(\"Run Time of some Sorting Algorithms\")\n",
    "plt.xlabel(\"n\")\n",
    "plt.ylabel(\"Runtime (s)\")\n",
    "plt.legend(loc=0)\n",
    "plt.show()"
   ]
  }
 ],
 "metadata": {
  "kernelspec": {
   "display_name": "Python 3",
   "language": "python",
   "name": "python3"
  },
  "language_info": {
   "codemirror_mode": {
    "name": "ipython",
    "version": 3
   },
   "file_extension": ".py",
   "mimetype": "text/x-python",
   "name": "python",
   "nbconvert_exporter": "python",
   "pygments_lexer": "ipython3",
   "version": "3.6.1"
  }
 },
 "nbformat": 4,
 "nbformat_minor": 2
}
