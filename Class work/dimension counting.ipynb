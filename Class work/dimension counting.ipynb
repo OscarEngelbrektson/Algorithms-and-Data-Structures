{
 "cells": [
  {
   "cell_type": "code",
   "execution_count": 11,
   "metadata": {
    "collapsed": true
   },
   "outputs": [],
   "source": [
    "def dim_count(m, n, rank):\n",
    "    null = n-rank\n",
    "    col = rank\n",
    "    row = rank\n",
    "    left_null = m - rank\n",
    "    return print(\" dim(col(A)):\", col,\n",
    "                \"\\n\",\n",
    "                \"dim(row(A)):\", row,\n",
    "                \"\\n\",\n",
    "                \"dim(N(A)):\", null,\n",
    "                \"\\n\",\n",
    "                \"dim(N(A^t)):\", left_null)"
   ]
  },
  {
   "cell_type": "code",
   "execution_count": 12,
   "metadata": {},
   "outputs": [
    {
     "name": "stdout",
     "output_type": "stream",
     "text": [
      " dim(col(A)): 5 \n",
      " dim(row(A)): 5 \n",
      " dim(N(A)): 4 \n",
      " dim(N(A^t)): 2\n"
     ]
    }
   ],
   "source": [
    "dim_count(7, 9, 5)"
   ]
  },
  {
   "cell_type": "code",
   "execution_count": null,
   "metadata": {
    "collapsed": true
   },
   "outputs": [],
   "source": []
  }
 ],
 "metadata": {
  "kernelspec": {
   "display_name": "Python 3",
   "language": "python",
   "name": "python3"
  },
  "language_info": {
   "codemirror_mode": {
    "name": "ipython",
    "version": 3
   },
   "file_extension": ".py",
   "mimetype": "text/x-python",
   "name": "python",
   "nbconvert_exporter": "python",
   "pygments_lexer": "ipython3",
   "version": "3.6.8"
  }
 },
 "nbformat": 4,
 "nbformat_minor": 2
}
