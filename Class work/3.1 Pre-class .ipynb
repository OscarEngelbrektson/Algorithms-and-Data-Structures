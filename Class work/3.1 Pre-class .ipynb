{
 "cells": [
  {
   "cell_type": "code",
   "execution_count": 24,
   "metadata": {
    "collapsed": true
   },
   "outputs": [],
   "source": [
    "'''\n",
    "Master Method:\n",
    "\t1. Identify a, b and f(n).\n",
    "\t2. Compute n^(lg_b)*a\n",
    "\t3. Compare n^(lg_b)*a and f(n)\n",
    "\t4. Identify which case captures the relationship in Step 3.\n",
    "Map to correct solution.\n",
    "T = n**math.log(a,b) \n",
    "if T > f(n):\n",
    "    return print(\"Theta(n lg n)\")\n",
    "if f(n) > T:\n",
    "return print(\"Theta(f(n))\")\n",
    "if f(n) ==T:\n",
    "        return print(\"Theta(n lg n)\")\n",
    "else:\n",
    "    return print(\"The Master method cannot solve this recurrence\")\n",
    "\n",
    "'''\n",
    "\n",
    "import math\n",
    "def f(n):\n",
    "    return n\n",
    "\n",
    "def master_method(a,b,n=10^5):\n",
    "    T = n**math.log(a,b)\n",
    "    if T > f(n):\n",
    "        return print(\"Theta(n lg n)\")\n",
    "    if f(n) > T:\n",
    "        return print(\"Theta(\",f, \")\")\n",
    "    if f(n) ==T:\n",
    "        return print(\"Theta(n lg n)\")\n",
    "    else:\n",
    "        return print(\"The Master method cannot solve this recurrence\")"
   ]
  },
  {
   "cell_type": "code",
   "execution_count": 25,
   "metadata": {},
   "outputs": [
    {
     "name": "stdout",
     "output_type": "stream",
     "text": [
      "Omega(n lg n)\n"
     ]
    }
   ],
   "source": [
    "master_method(2,2, n=10^5)"
   ]
  },
  {
   "cell_type": "code",
   "execution_count": 42,
   "metadata": {},
   "outputs": [
    {
     "data": {
      "text/plain": [
       "10"
      ]
     },
     "execution_count": 42,
     "metadata": {},
     "output_type": "execute_result"
    }
   ],
   "source": [
    "def max_subarray(a):\n",
    "    max_sum = 0\n",
    "    current = 0 \n",
    "    \n",
    "    for i in range(len(a)):\n",
    "        current += a[i] #Current sum(current subarry) + next element\n",
    "        if current < 0: #If negative sum, reset\n",
    "            current = 0\n",
    "        if current > max_sum: #If current > max, update max\n",
    "            max_sum = current\n",
    "    return max_sum #Return maximum subarray\n",
    "\n",
    "max_subarray([-2, -3, 4, -1, -2, 1, 5, 3])\n",
    "\n",
    "#Complexity analysis:\n",
    "#The loop performs n+1 iterations. Each operation within the loop - line 6-10 - take constant time.\n",
    "#T(n) = o(1)*n --> Theta(n), this is a linear time solution inspired by question+hints 4.1-5."
   ]
  },
  {
   "cell_type": "code",
   "execution_count": 15,
   "metadata": {},
   "outputs": [],
   "source": [
    "def incr_max_subarray(x, mx):\n",
    "    max_sum = mx\n",
    "    current_sum = 0\n",
    "    for i in range(len(x)-1,-1,-1):\n",
    "        current_sum += x[i]\n",
    "        if current_sum > max_sum:\n",
    "            max_sum = current_sum\n",
    "        \n",
    "    return max_sum\n",
    "\n",
    "incr_max_subarray([-2, -3, 4, -1, -2, 1, 5], 7)\n",
    "#This algorithm solves the problem correctly, \n",
    "#but does not make use of the pre-exisiting information \n",
    "#such that it becomes more efficient than max_subarray(a). Both are O(N)\n",
    "\n",
    "\n",
    "def incr2_max_subarray(x, mx, start, end):\n",
    "    #If the old max reached the end of the old array, the sign of the new element is all that matters.\n",
    "    #If x[-1]>0 add, else keep mx.\n",
    "    if end == len(x)-2:\n",
    "        if x[-1] > 0:\n",
    "            return sum(x[start:]), print(\"case 1, a\")\n",
    "        else:\n",
    "            return mx, print(\"case 1, b\")\n",
    "    #If old max not at end of array, then the numbers between end and array end have negative sum.\n",
    "    #If new element is more positive than they negative, max subarray goes from start to a[-1].\n",
    "    negative_sub = abs(sum(x[end+1:len(x)-1]))\n",
    "    elif x[-1] > negative_sub and mx > negative_sub:\n",
    "        return sum(x[start:]), print(\"case 2\")\n",
    "    #For the odd-case where x[-1] is greater than mx, but smaller than abs(sum(x[end+1:len(x)-1])).\n",
    "    elif x[-1] > mx:\n",
    "        return x[-1], print(\"case 3\")\n",
    "    #If none of these three cases occur, mx is still the max subarray\n",
    "    else:\n",
    "        return mx, print(\"case 4\")\n",
    "#The worst case is if we have to sum the entire array-2, to test for case 2. O(n)\n",
    "#Best case: Omega(1), condition 1 is true or the condition two only requires sum of 1 element.\n",
    "\n",
    "        \n",
    "# 3 cases:\n",
    "#1. The old subarray ended at a[-1]: if new a[-1] > 0, return mx+a[-1]\n",
    "#2. If not case 1, then the absolute sum of the elements between end of mx and end of a is negative:\n",
    "    #If new a[-1] > abs(sum(elements between end mx and end a[-2])):\n",
    "        #return sum(a[old start:new end])\n",
    "#3. elif: a[-1] > mx:\n",
    "    #return a[i]\n",
    "#else: return mx"
   ]
  },
  {
   "cell_type": "code",
   "execution_count": 16,
   "metadata": {},
   "outputs": [
    {
     "name": "stdout",
     "output_type": "stream",
     "text": [
      "case 2\n"
     ]
    },
    {
     "data": {
      "text/plain": [
       "(14, None)"
      ]
     },
     "execution_count": 16,
     "metadata": {},
     "output_type": "execute_result"
    }
   ],
   "source": [
    "incr2_max_subarray([-2, -3, 4, -1, -2, 1, 5, -3, 10], 7, 2,6)"
   ]
  },
  {
   "cell_type": "code",
   "execution_count": 68,
   "metadata": {},
   "outputs": [
    {
     "name": "stdout",
     "output_type": "stream",
     "text": [
      "9\n"
     ]
    },
    {
     "data": {
      "text/plain": [
       "-3"
      ]
     },
     "execution_count": 68,
     "metadata": {},
     "output_type": "execute_result"
    }
   ],
   "source": [
    "x = [-2, -3, 4, -1, -2, 1, 5, -3, 1]\n",
    "print(len(x))\n",
    "sum(x[6+1:len(x)-1])"
   ]
  },
  {
   "cell_type": "code",
   "execution_count": null,
   "metadata": {
    "collapsed": true
   },
   "outputs": [],
   "source": []
  }
 ],
 "metadata": {
  "kernelspec": {
   "display_name": "Python 3",
   "language": "python",
   "name": "python3"
  },
  "language_info": {
   "codemirror_mode": {
    "name": "ipython",
    "version": 3
   },
   "file_extension": ".py",
   "mimetype": "text/x-python",
   "name": "python",
   "nbconvert_exporter": "python",
   "pygments_lexer": "ipython3",
   "version": "3.6.9"
  }
 },
 "nbformat": 4,
 "nbformat_minor": 2
}
