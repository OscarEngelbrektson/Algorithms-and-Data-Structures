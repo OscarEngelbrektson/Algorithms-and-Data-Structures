{
 "cells": [
  {
   "cell_type": "markdown",
   "metadata": {},
   "source": [
    "# Class 7.2"
   ]
  },
  {
   "cell_type": "markdown",
   "metadata": {},
   "source": [
    "Direct Address Tables\n",
    "As the first step in setting up a crossword solving algorithm you need to create 2 direct address tables, one to store all the “up” answers-whether correct or not-and one to store all the “across” answers. Write python code to create a direct address table that allows you to:\n",
    "\n",
    "1. initialize N empty guesses\n",
    "2. set a guess for the i-th entry\n",
    "3. clear an incorrect guess for the i-th entry\n",
    "\n",
    "4. Social Security:\n",
    "Could we use a direct address table to store a country's entire set of social security numbers (aka id numbers)? Comment on why this is a good or bad idea."
   ]
  },
  {
   "cell_type": "code",
   "execution_count": 56,
   "metadata": {
    "collapsed": true
   },
   "outputs": [],
   "source": [
    "class da_table:\n",
    "    def __init__(self, n):\n",
    "        self.table = [None for x in range(n)]\n",
    "        \n",
    "    def __str__(self):\n",
    "        return str(self.table)\n",
    "    \n",
    "    def guess(self, guess, i):\n",
    "        self.table[i] = guess\n",
    "    \n",
    "    def clear(self, i):\n",
    "        self.table[i] = None"
   ]
  },
  {
   "cell_type": "code",
   "execution_count": 57,
   "metadata": {},
   "outputs": [
    {
     "name": "stdout",
     "output_type": "stream",
     "text": [
      "[None, None, None, None, None, None, None, None, None, None]\n",
      "[None, None, 10, None, None, None, None, None, None, None]\n",
      "[None, None, None, None, None, None, None, None, None, None]\n"
     ]
    }
   ],
   "source": [
    "a = da_table(10)\n",
    "print(a)\n",
    "a.guess(10, 2)\n",
    "print(a)\n",
    "a.clear(2)\n",
    "print(a)"
   ]
  },
  {
   "cell_type": "markdown",
   "metadata": {},
   "source": [
    "Chained Hash-table\n",
    "\n",
    "Using the code from this gist, complete the missing sections of code\n",
    "\n",
    "1. Create 100,000 words of 10 characters each.\n",
    "2. Create four chained hash-tables with 5000 slots.\n",
    "3. Store all the words in each chained hash table using each of the different hash functions.\n",
    "4. Measure the number of collisions for each hash function.\n",
    "5. For each of the hash functions, how many elements are in a bucket on average (if it is not empty)?\n",
    "6. Time how long it takes to find elements that are in each hash table.\n",
    "7. For each hash table, time how long it takes to find 10,000 elements that have not been stored."
   ]
  },
  {
   "cell_type": "code",
   "execution_count": 17,
   "metadata": {},
   "outputs": [],
   "source": [
    "## Python 3\n",
    "\n",
    "import random\n",
    "import string\n",
    "\n",
    "\n",
    "def randomword(length):\n",
    "    return ''.join(random.choice(string.ascii_lowercase) for i in range(length))\n",
    "\n",
    "\n",
    "def empty_hash_table(N):\n",
    "    return [[] for n in range(N)]\n",
    "\n",
    "\n",
    "def add_to_hash_table(hash_table, item, hash_function):\n",
    "    N = len(hash_table)\n",
    "    loc = hash_function(item)%N\n",
    "    hash_table[loc].append(item)\n",
    "    \n",
    "    return hash_table\n",
    "\n",
    "def contains(hash_table, item, hash_function):   \n",
    "    N = len(hash_table)\n",
    "    #Check if item in hash_table\n",
    "    return hash_function(item%N) in hash_table\n",
    "\n",
    "\n",
    "def remove(hash_table, item, hash_function):\n",
    "    if not contains(hash_table, item, hash_function):\n",
    "        raise ValueError()\n",
    "        \n",
    "    N = len(hash_table)\n",
    "    \n",
    "    #Remove index of item\n",
    "    del hash_table[hash_function(item)%N]\n",
    "    return hash_table\n",
    "\n",
    "\n",
    "def hash_str1(string):\n",
    "    ans = 0\n",
    "    for chr in string:\n",
    "        ans += ord(chr)\n",
    "    return ans\n",
    "\n",
    "\n",
    "def hash_str2(string):\n",
    "    ans = 0\n",
    "    for chr in string:\n",
    "        ans = ans ^ ord(chr)\n",
    "    return ans\n",
    "\n",
    "\n",
    "def hash_str3(string):\n",
    "    ans = 0\n",
    "    for chr in string:\n",
    "        ans = ans * 128 + ord(chr)\n",
    "    return ans\n",
    "\n",
    "\n",
    "def hash_str4(string):\n",
    "    random.seed(ord(string[0]))\n",
    "    return random.getrandbits(32)\n",
    "\n",
    "words = [randomword(10) for x in range(100000)]\n",
    "\n",
    "table1 = empty_hash_table(5000)\n",
    "for word in words:\n",
    "    table1 = add_to_hash_table(table1, word, hash_str1)\n",
    "\n",
    "    #Check collisions\n",
    "collisions1 = 0\n",
    "for i in table1:\n",
    "    if len(i) >1:\n",
    "        collisions1 += len(i)-1\n",
    "\n",
    "table2 = empty_hash_table(5000)\n",
    "for word in words:\n",
    "    table2 = add_to_hash_table(table2, word, hash_str2)\n",
    "collisions2 = 0\n",
    "for i in table2:\n",
    "    if len(i) >1:\n",
    "        collisions2 += len(i)-1\n",
    "\n",
    "table3 = empty_hash_table(5000)\n",
    "for word in words:\n",
    "    table3 = add_to_hash_table(table3, word, hash_str3)\n",
    "collisions3 = 0\n",
    "for i in table3:\n",
    "    if len(i) >1:\n",
    "        collisions3 += len(i)-1\n",
    "    \n",
    "    \n",
    "table4 = empty_hash_table(5000)\n",
    "for word in words:\n",
    "    table4 = add_to_hash_table(table4, word, hash_str4)\n",
    "\n",
    "collisions4 = 0\n",
    "for i in table4:\n",
    "    if len(i) >1:\n",
    "        collisions4 += len(i)-1\n"
   ]
  },
  {
   "cell_type": "code",
   "execution_count": 19,
   "metadata": {
    "scrolled": true
   },
   "outputs": [
    {
     "name": "stdout",
     "output_type": "stream",
     "text": [
      "99822\n",
      "99968\n",
      "95000\n",
      "99974\n"
     ]
    }
   ],
   "source": [
    "print(collisions1)\n",
    "print(collisions2)\n",
    "print(collisions3)\n",
    "print(collisions4)"
   ]
  },
  {
   "cell_type": "code",
   "execution_count": 26,
   "metadata": {},
   "outputs": [
    {
     "data": {
      "text/plain": [
       "True"
      ]
     },
     "execution_count": 26,
     "metadata": {},
     "output_type": "execute_result"
    }
   ],
   "source": [
    "def hash_str2(string):\n",
    "    ans = 0 \n",
    "    for chr in string: \n",
    "        ans = ans ^ ord(chr) \n",
    "    return ans \n",
    "\n",
    "hash_str2(\"ABC\") == hash_str2(\"CBA\")"
   ]
  },
  {
   "cell_type": "code",
   "execution_count": 32,
   "metadata": {},
   "outputs": [
    {
     "data": {
      "text/plain": [
       "[]"
      ]
     },
     "execution_count": 32,
     "metadata": {},
     "output_type": "execute_result"
    }
   ],
   "source": [
    "from itertools import permutations \n",
    "alphabet = map(chr, range(97, 123))\n",
    "perms = [''.join(p) for p in permutations([1, 0], 8)]\n",
    "perms"
   ]
  },
  {
   "cell_type": "code",
   "execution_count": 30,
   "metadata": {},
   "outputs": [
    {
     "ename": "SyntaxError",
     "evalue": "invalid syntax (<ipython-input-30-1f50830482dd>, line 13)",
     "output_type": "error",
     "traceback": [
      "\u001b[0;36m  File \u001b[0;32m\"<ipython-input-30-1f50830482dd>\"\u001b[0;36m, line \u001b[0;32m13\u001b[0m\n\u001b[0;31m    max(keys)\u001b[0m\n\u001b[0m      ^\u001b[0m\n\u001b[0;31mSyntaxError\u001b[0m\u001b[0;31m:\u001b[0m invalid syntax\n"
     ]
    }
   ],
   "source": [
    "def randomword(length):\n",
    "    return ''.join(random.choice(string.ascii_lowercase) for i in range(length))\n",
    "\n",
    "def hash_str2(string):\n",
    "    ans = 0 \n",
    "    for chr in string: \n",
    "        ans = ans ^ ord(chr) \n",
    "    return ans \n",
    "\n",
    "keys = []\n",
    "for _ in range(1000):\n",
    "    keys.append(hash_str2(randomword(10))\n",
    "max(keys)"
   ]
  },
  {
   "cell_type": "code",
   "execution_count": 31,
   "metadata": {},
   "outputs": [
    {
     "ename": "IndentationError",
     "evalue": "expected an indented block (<ipython-input-31-01f3ca172880>, line 2)",
     "output_type": "error",
     "traceback": [
      "\u001b[0;36m  File \u001b[0;32m\"<ipython-input-31-01f3ca172880>\"\u001b[0;36m, line \u001b[0;32m2\u001b[0m\n\u001b[0;31m    bin(100)\u001b[0m\n\u001b[0m      ^\u001b[0m\n\u001b[0;31mIndentationError\u001b[0m\u001b[0;31m:\u001b[0m expected an indented block\n"
     ]
    }
   ],
   "source": []
  },
  {
   "cell_type": "code",
   "execution_count": null,
   "metadata": {
    "collapsed": true
   },
   "outputs": [],
   "source": []
  }
 ],
 "metadata": {
  "kernelspec": {
   "display_name": "Python 3",
   "language": "python",
   "name": "python3"
  },
  "language_info": {
   "codemirror_mode": {
    "name": "ipython",
    "version": 3
   },
   "file_extension": ".py",
   "mimetype": "text/x-python",
   "name": "python",
   "nbconvert_exporter": "python",
   "pygments_lexer": "ipython3",
   "version": "3.6.1"
  }
 },
 "nbformat": 4,
 "nbformat_minor": 2
}
