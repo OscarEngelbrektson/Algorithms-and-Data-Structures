{
 "cells": [
  {
   "cell_type": "markdown",
   "metadata": {},
   "source": [
    "# Assignment 1 - CS110, Prof. Drummond.\n",
    "## Oscar Engelbrektson\n",
    "### Spring 2019"
   ]
  },
  {
   "cell_type": "markdown",
   "metadata": {},
   "source": [
    "### 1. \n",
    "(#sort) Implement three-way merge sort in Python. It should at a minimum accept lists of integers as input and you should provide at least three test cases that demonstrate the correctness of your code."
   ]
  },
  {
   "cell_type": "code",
   "execution_count": 1,
   "metadata": {},
   "outputs": [],
   "source": [
    "def merge_sort_3(a):\n",
    "    #If one element, return element\n",
    "    if len(a) <= 1:\n",
    "        return a\n",
    "        \n",
    "    #If two elements, return sorted\n",
    "    #Necessary because \"third\" doesn't work on len(a)==2\n",
    "    if len(a) == 2:\n",
    "        if a[0] < a[1]:\n",
    "            return a\n",
    "        else: \n",
    "            return [a[1], a[0]]\n",
    "\n",
    "    #Split array in 3\n",
    "    else:\n",
    "        #Index to split at\n",
    "        third = int(len(a)/3)\n",
    "        \n",
    "        #Dummy variable, one larger than largest element in array\n",
    "        mx = max(a)+1\n",
    "        \n",
    "        #Add mx for \"empty\" array to lose in comparison\n",
    "        L = merge_sort_3(a[:third]) + [mx] #Left array\n",
    "        C = merge_sort_3(a[third:2*third]) + [mx] #Center array\n",
    "        R = merge_sort_3(a[2*third:]) + [mx] #Right array\n",
    "        \n",
    "        #Merge\n",
    "        #Compare smallest elements in each array, select smallest\n",
    "        #For-loop 1 to len(a), since len(a) == len(L)+len(C)+len(R)\n",
    "        for i in range(len(a)):\n",
    "            a[i] = min(L[0],C[0],R[0])\n",
    "            \n",
    "            #Increment array from which element was selected\n",
    "            if a[i] == L[0]:\n",
    "                L = L[1:]\n",
    "            elif a[i] == C[0]:\n",
    "                C = C[1:]\n",
    "            else:\n",
    "                R = R[1:]\n",
    "            \n",
    "        return a"
   ]
  },
  {
   "cell_type": "code",
   "execution_count": 2,
   "metadata": {},
   "outputs": [
    {
     "data": {
      "text/plain": [
       "True"
      ]
     },
     "execution_count": 2,
     "metadata": {},
     "output_type": "execute_result"
    }
   ],
   "source": [
    "#Check if merge_sort_3 works by comparing to built-in sort function\n",
    "import numpy as np\n",
    "\n",
    "def merge_sort_3_checker():\n",
    "    j = 0\n",
    "    correct = True\n",
    "    \n",
    "    #Check up to 50 times\n",
    "    while j <= 50 and correct:\n",
    "        \n",
    "        #On random list of length between 0 and 1000, \n",
    "        #with values between -100 and 100\n",
    "        test_array = list(np.random.randint(\n",
    "            -100, 100, np.random.randint(0, 1000, 1)))\n",
    "        \n",
    "        #Sort using built-in function\n",
    "        a = test_array\n",
    "        a.sort()\n",
    "        \n",
    "        #If sorted arrays don't match, return False\n",
    "        if a != merge_sort_3(test_array):\n",
    "            correct = False\n",
    "        \n",
    "        #increment j\n",
    "        j += 1\n",
    "        \n",
    "    return correct\n",
    "\n",
    "merge_sort_3_checker()"
   ]
  },
  {
   "cell_type": "markdown",
   "metadata": {},
   "source": [
    "### 2.\n",
    "(#sort) Implement a second version of three-way merge sort that calls insertion sort when sublists are below a certain length (of your choice) rather than continuing the subdivision process. Justify what might be an appropriate threshold for the input array for applying insertion sort."
   ]
  },
  {
   "cell_type": "markdown",
   "metadata": {},
   "source": [
    "## Insertion Sort"
   ]
  },
  {
   "cell_type": "code",
   "execution_count": 3,
   "metadata": {},
   "outputs": [],
   "source": [
    "def insertion_sort(a):\n",
    "    for i in range(1, len(a)):\n",
    "        current = a[i]\n",
    "        j = i -1\n",
    "        #Compare element to the left, if larger swap. Repeat.\n",
    "        while j>=0 and a[j]>current:\n",
    "            a[j+1] = a[j]\n",
    "            j -=1\n",
    "        a[j+1] = current\n",
    "    return a"
   ]
  },
  {
   "cell_type": "code",
   "execution_count": 4,
   "metadata": {},
   "outputs": [
    {
     "data": {
      "text/plain": [
       "True"
      ]
     },
     "execution_count": 4,
     "metadata": {},
     "output_type": "execute_result"
    }
   ],
   "source": [
    "#Check insertion sort works\n",
    "\n",
    "import numpy as np\n",
    "\n",
    "def insertion_sort_checker():\n",
    "    j = 0\n",
    "    correct = True\n",
    "    \n",
    "    #Check up to 50 times\n",
    "    while j <= 50 and correct:\n",
    "        \n",
    "        #On random list of length between 0 and 1000, \n",
    "        #with values between -100 and 100\n",
    "        test_array = list(np.random.randint(\n",
    "            -100, 100, np.random.randint(0, 1000, 1)))\n",
    "        \n",
    "        #Sort using built-in function\n",
    "        a = test_array\n",
    "        a.sort()\n",
    "        \n",
    "        #If sorted arrays don't match, return False\n",
    "        if a != insertion_sort(test_array):\n",
    "            correct = False\n",
    "        \n",
    "        #increment j    \n",
    "        j += 1\n",
    "        \n",
    "    return correct\n",
    "\n",
    "insertion_sort_checker()"
   ]
  },
  {
   "cell_type": "markdown",
   "metadata": {},
   "source": [
    "## Merge-Insertion Sort Hybrid"
   ]
  },
  {
   "cell_type": "code",
   "execution_count": 5,
   "metadata": {},
   "outputs": [],
   "source": [
    "def merge_insertion_sort_3(a, t): \n",
    "    #t input array size threshold for applying insertion sort\n",
    "    if len(a) < 1: #For speed: if one element, return element\n",
    "        return a\n",
    "        \n",
    "    if len(a) <= t: #array below threshhold for insertion sort?\n",
    "            insertion_sort(a)\n",
    "            \n",
    "    else:\n",
    "        #Index to split at\n",
    "        third = int(len(a)/3)\n",
    "        \n",
    "        #Dummy variable, one larger than largest element in array\n",
    "        mx = max(a)+1\n",
    "        \n",
    "        #Add mx for \"empty\" array to lose in comparison\n",
    "        L = merge_sort_3(a[:third]) + [mx] #Left array\n",
    "        C = merge_sort_3(a[third:2*third]) + [mx] #Center array\n",
    "        R = merge_sort_3(a[2*third:]) + [mx] #Right array\n",
    "        \n",
    "        #Merge\n",
    "        #Compare smallest elements in each array, select smallest\n",
    "        #For-loop 1 to len(a), since len(a) == len(L)+len(C)+len(R)\n",
    "        for i in range(len(a)):\n",
    "            a[i] = min(L[0],C[0],R[0])\n",
    "            \n",
    "            #Increment array from which element was selected\n",
    "            if a[i] == L[0]:\n",
    "                L = L[1:]\n",
    "            elif a[i] == C[0]:\n",
    "                C = C[1:]\n",
    "            else:\n",
    "                R = R[1:]\n",
    "            \n",
    "        return a"
   ]
  },
  {
   "cell_type": "code",
   "execution_count": 6,
   "metadata": {},
   "outputs": [
    {
     "data": {
      "text/plain": [
       "True"
      ]
     },
     "execution_count": 6,
     "metadata": {},
     "output_type": "execute_result"
    }
   ],
   "source": [
    "#Check if merge_insertion_sort_3 works for different a and t\n",
    "#by comparing to built-in sort function\n",
    "import numpy as np\n",
    "\n",
    "def merge_insertion_sort_3_checker():\n",
    "    j = 0\n",
    "    correct = True\n",
    "    #Check for different values of t\n",
    "    for t in range(2, 10):\n",
    "        \n",
    "        #Check up to 50 times\n",
    "        while j <= 50 and correct:\n",
    "            \n",
    "            #On random list of length between 0 and 1000, \n",
    "            #with values between -100 and 100\n",
    "            test_array = list(np.random.randint(\n",
    "                -100, 100, np.random.randint(0, 1000, 1)))\n",
    "            a = test_array\n",
    "            a.sort()\n",
    "            \n",
    "            #If sorted arrays don't match, return False\n",
    "            if a != merge_insertion_sort_3(test_array, t):\n",
    "                correct = False\n",
    "            \n",
    "            #increment j\n",
    "            j += 1\n",
    "            \n",
    "    return correct\n",
    "\n",
    "merge_insertion_sort_3_checker()"
   ]
  },
  {
   "cell_type": "markdown",
   "metadata": {},
   "source": [
    "### Evaluating optimal t for Merge-Insertion Sort"
   ]
  },
  {
   "cell_type": "code",
   "execution_count": 7,
   "metadata": {},
   "outputs": [],
   "source": [
    "#Evaluating optimal value for t by comparing run times\n",
    "import time\n",
    "import numpy as np\n",
    "\n",
    "t5_time = []\n",
    "t10_time = []\n",
    "t20_time = []\n",
    "t45_time = []\n",
    "t70_time = []\n",
    "t100_time = []\n",
    "t200_time = []\n",
    "t500_time = []\n",
    "#insertion_time = []\n",
    "\n",
    "i = 30 #Number of times to run random arrays of size n\n",
    "\n",
    "ns = [n for n in range(5, 10010, 1000)]\n",
    "for n in ns:\n",
    "    t5_temp = 0\n",
    "    t10_temp = 0\n",
    "    t20_temp = 0\n",
    "    t45_temp = 0\n",
    "    t70_temp = 0\n",
    "    t100_temp = 0\n",
    "    t200_temp = 0\n",
    "    t500_temp = 0\n",
    "    #insertion_temp = 0\n",
    "    for _ in range(i):\n",
    "        \n",
    "        #t=5\n",
    "        start1 = time.time()\n",
    "        merge_insertion_sort_3(\n",
    "            list(np.random.randint(-100, 100, n)), 5)\n",
    "        end1 = time.time()\n",
    "        t5_temp += (end1 - start1)\n",
    "        \n",
    "        #t=10\n",
    "        start2 = time.time()\n",
    "        merge_insertion_sort_3(\n",
    "            list(np.random.randint(-100, 100, n)), 10)\n",
    "        end2 = time.time()\n",
    "        t10_temp += (end2 - start2)\n",
    "        \n",
    "        #t=20\n",
    "        start3 = time.time()\n",
    "        merge_insertion_sort_3(\n",
    "            list(np.random.randint(-100, 100, n)), 20)\n",
    "        end3 = time.time()\n",
    "        t20_temp += (end3 - start3)\n",
    "        \n",
    "        #t=45\n",
    "        start4 = time.time()\n",
    "        merge_insertion_sort_3(\n",
    "            list(np.random.randint(-100, 100, n)), 45)\n",
    "        end4 = time.time()\n",
    "        t45_temp += (end4 - start4)\n",
    "        \n",
    "        #t=70\n",
    "        start5 = time.time()\n",
    "        merge_insertion_sort_3(\n",
    "            list(np.random.randint(-100, 100, n)), 70)\n",
    "        end5 = time.time()\n",
    "        t70_temp += (end5- start5)\n",
    "        \n",
    "        #t=100\n",
    "        start6 = time.time()\n",
    "        merge_insertion_sort_3(\n",
    "            list(np.random.randint(-100, 100, n)), 100)\n",
    "        end6 = time.time()\n",
    "        t100_temp += (end6 - start6)\n",
    "        \n",
    "        #t=200\n",
    "        start7 = time.time()\n",
    "        merge_insertion_sort_3(\n",
    "            list(np.random.randint(-100, 100, n)), 200)\n",
    "        end7 = time.time()\n",
    "        t200_temp += (end7 - start7)\n",
    "        \n",
    " \n",
    "        #t500\n",
    "        start8 = time.time()\n",
    "        merge_insertion_sort_3(\n",
    "            list(np.random.randint(-100, 100, n)), 500)\n",
    "        end8 = time.time()\n",
    "        t500_temp += (end8 - start8)\n",
    "        \n",
    "\n",
    "    t5_time.append(t5_temp/i)\n",
    "    t10_time.append(t10_temp/i)\n",
    "    t20_time.append(t20_temp/i)\n",
    "    t45_time.append(t45_temp/i)\n",
    "    t70_time.append(t70_temp/i)\n",
    "    t100_time.append(t100_temp/i)\n",
    "    t200_time.append(t200_temp/i)\n",
    "    t500_time.append(t500_temp/i)\n",
    "    #insertion_time.append(insertion_temp/i)"
   ]
  },
  {
   "cell_type": "code",
   "execution_count": 8,
   "metadata": {},
   "outputs": [
    {
     "data": {
      "text/plain": [
       "<Figure size 640x480 with 1 Axes>"
      ]
     },
     "metadata": {},
     "output_type": "display_data"
    }
   ],
   "source": [
    "import matplotlib.pyplot as plt\n",
    "#ns = [n for n in range(5, 110, 5)]\n",
    "ns = [n for n in range(5, 10010, 1000)]\n",
    "\n",
    "plt.plot(ns,t5_time, label = \"t=5\")\n",
    "plt.plot(ns,t10_time, label = \"t=10\")\n",
    "plt.plot(ns,t20_time, label = \"t=20\")\n",
    "plt.plot(ns,t45_time, label = \"t=45\")\n",
    "plt.plot(ns,t70_time, label = \"t=70\")\n",
    "plt.plot(ns,t100_time, label = \"t=100\")\n",
    "plt.plot(ns,t200_time, label = \"t=200\")\n",
    "plt.plot(ns,t500_time, label = \"t=500\")\n",
    "#plt.plot(ns,insertion_time, label = \"t=500\")\n",
    "\n",
    "\n",
    "plt.title(\"Run Time Merge+Insertion Sort Algorithm\")\n",
    "plt.xlabel(\"n\")\n",
    "plt.ylabel(\"Runtime (s)\")\n",
    "plt.legend(loc=0)\n",
    "plt.show()"
   ]
  },
  {
   "cell_type": "markdown",
   "metadata": {},
   "source": [
    "### 3. \n",
    "(#complexity, #optimalalgorithm) Analyze and compare the practical run times of regular merge sort, three-way merge sort, and the augmented merge sort from (2) by producing a plot that illustrates how each running time grows with input size. Make sure to:\n",
    "1. define what each algorithm's complexity is\n",
    "2. enumerate the explicit assumptions made to assess each run time of the algorithm's run time. \n",
    "3. and compare your benchmarks with the theoretical result we have discussed in class."
   ]
  },
  {
   "cell_type": "markdown",
   "metadata": {},
   "source": [
    "### Binary Merge Sort"
   ]
  },
  {
   "cell_type": "code",
   "execution_count": 9,
   "metadata": {},
   "outputs": [],
   "source": [
    "def merge_sort(a):\n",
    "    #If one element, return element\n",
    "    if len(a) <= 1:\n",
    "        return a\n",
    "\n",
    "    #Split array in 2\n",
    "    else:\n",
    "        #Index to split\n",
    "        half = int(len(a)/2)\n",
    "        \n",
    "        #Dummy variable, one larger than largest element in array\n",
    "        mx = max(a)+1\n",
    "        \n",
    "        #Add mx for \"empty\" array to lose in comparison\n",
    "        L = merge_sort_3(a[:half]) + [mx] #Left array\n",
    "        R = merge_sort_3(a[half:]) + [mx] #Right array\n",
    "        \n",
    "        #Merge\n",
    "        #Compare smallest elements in each array, select smallest\n",
    "        #For-loop 1 to len(a), since len(a) == len(L)+len(R)\n",
    "        for i in range(len(a)):\n",
    "            a[i] = min(L[0],R[0])\n",
    "            \n",
    "            #Increment array from which element was selected\n",
    "            if a[i] == L[0]:\n",
    "                L = L[1:]\n",
    "            else:\n",
    "                R = R[1:]\n",
    "            \n",
    "        return a"
   ]
  },
  {
   "cell_type": "code",
   "execution_count": 10,
   "metadata": {},
   "outputs": [
    {
     "data": {
      "text/plain": [
       "True"
      ]
     },
     "execution_count": 10,
     "metadata": {},
     "output_type": "execute_result"
    }
   ],
   "source": [
    "#Check if merge_insertion_sort_3 works for different a and t\n",
    "#by comparing to built-in sort function\n",
    "import numpy as np\n",
    "\n",
    "def merge_sort_checker():\n",
    "    j = 0\n",
    "    correct = True\n",
    "    #Check for different values of t\n",
    "        \n",
    "    #Check up to 50 times\n",
    "    while j <= 50 and correct:            \n",
    "        #On random list of length between 0 and 1000, with values between -100 and 100\n",
    "        test_array = list(np.random.randint(\n",
    "            -100, 100, np.random.randint(0, 1000, 1)))\n",
    "        a = test_array\n",
    "        a.sort()\n",
    "            \n",
    "        #If sorted arrays don't match, return False\n",
    "        if a != merge_sort(test_array):\n",
    "            correct = False\n",
    "            \n",
    "        #increment j\n",
    "        j += 1\n",
    "            \n",
    "    return correct\n",
    "\n",
    "merge_sort_checker()"
   ]
  },
  {
   "cell_type": "markdown",
   "metadata": {},
   "source": [
    "# Practical run time comparison"
   ]
  },
  {
   "cell_type": "code",
   "execution_count": 11,
   "metadata": {},
   "outputs": [],
   "source": [
    "import time\n",
    "import numpy as np\n",
    "\n",
    "merge_time = []\n",
    "merge3_time = []\n",
    "merge3_insert_time = []\n",
    "i = 10 #Number of times to run random arrays of size n\n",
    "\n",
    "ns = [n for n in range(10, 10011, 1000)]\n",
    "for n in ns:\n",
    "    merge_temp = 0\n",
    "    merge3_temp = 0\n",
    "    merge3_insert_temp = 0\n",
    "    for _ in range(i):\n",
    "            \n",
    "        #Binary merge_sort\n",
    "        start = time.time()\n",
    "        merge_sort(list(np.random.randint(-100, 100, n)))\n",
    "        end = time.time()\n",
    "        merge_temp += (end - start)\n",
    "        \n",
    "        #Ternary merge sort\n",
    "        start = time.time()\n",
    "        merge_sort_3(list(np.random.randint(-100, 100, n)))\n",
    "        end = time.time()\n",
    "        merge3_temp += (end - start)\n",
    "        \n",
    "        #Ternary merge-insertion sort\n",
    "        start = time.time()\n",
    "        merge_insertion_sort_3(list(np.random.randint(-100, 100, n)), 10) \n",
    "        end = time.time()\n",
    "        merge3_insert_temp += (end - start)\n",
    "        \n",
    "        \n",
    "    merge_time.append(merge_temp/i)\n",
    "    merge3_time.append(merge3_temp/i)\n",
    "    merge3_insert_time.append(merge3_insert_temp/i)  "
   ]
  },
  {
   "cell_type": "code",
   "execution_count": 12,
   "metadata": {},
   "outputs": [
    {
     "data": {
      "image/png": "[encoded data removed]",
      "text/plain": [
       "<Figure size 432x288 with 1 Axes>"
      ]
     },
     "metadata": {
      "needs_background": "light"
     },
     "output_type": "display_data"
    }
   ],
   "source": [
    "import matplotlib.pyplot as plt\n",
    "\n",
    "ns = [n for n in range(10, 10011, 1000)]\n",
    "\n",
    "plt.plot(ns,merge_time , label = \"Merge Sort\")\n",
    "plt.plot(ns,merge3_time, label = \"3-way Merge sort\")\n",
    "plt.plot(ns,merge3_insert_time, label = \"Merge + Insertion Sort\")\n",
    "\n",
    "\n",
    "plt.title(\"Run Time Comparison of Sorting Algorithms\")\n",
    "plt.xlabel(\"n\")\n",
    "plt.ylabel(\"Runtime (s)\")\n",
    "plt.legend(loc=0)\n",
    "plt.show()"
   ]
  },
  {
   "cell_type": "markdown",
   "metadata": {},
   "source": [
    "# Theoretical Runtime comparison"
   ]
  },
  {
   "cell_type": "code",
   "execution_count": 13,
   "metadata": {},
   "outputs": [],
   "source": [
    "import math\n",
    "ns = [n for n in range(10, 10011, 1000)]\n",
    "binary_merge = [n*math.log(n, 2) for n in ns] #log base 2\n",
    "ternary_merge = [n*math.log(n, 3) for n in ns] #log base 3\n",
    "merge_insertion = [n*(math.log(n, 3)) for n in ns] #log base 3"
   ]
  },
  {
   "cell_type": "code",
   "execution_count": 14,
   "metadata": {},
   "outputs": [
    {
     "data": {
      "image/png": "[encoded data removed]",
      "text/plain": [
       "<Figure size 432x288 with 1 Axes>"
      ]
     },
     "metadata": {
      "needs_background": "light"
     },
     "output_type": "display_data"
    }
   ],
   "source": [
    "import matplotlib.pyplot as plt\n",
    "\n",
    "ns = [n for n in range(10, 10011, 1000)]\n",
    "\n",
    "plt.plot(ns,binary_merge , label = \"Merge Sort\")\n",
    "plt.plot(ns,ternary_merge, label = \"3-way Merge sort\")\n",
    "plt.plot(ns,merge_insertion, label = \"Merge + Insertion Sort\")\n",
    "\n",
    "\n",
    "plt.title(\"Theoretical Run Time Comparison of Sorting Algorithms\")\n",
    "plt.xlabel(\"n\")\n",
    "plt.ylabel(\"Runtime\")\n",
    "plt.legend(loc=0)\n",
    "plt.show()"
   ]
  },
  {
   "cell_type": "markdown",
   "metadata": {},
   "source": [
    "### 4. [Optional Challenge]\n",
    "(#sort and/or #optimalalgorithm) Implement k-way merge sort, where the user specifies k. Develop and run experiments to support a hypothesis about the “best” value of k."
   ]
  },
  {
   "cell_type": "code",
   "execution_count": 15,
   "metadata": {},
   "outputs": [],
   "source": [
    "def kway_merge_sort(a, k):\n",
    "    #Generalizes to any k\n",
    "    if len(a) <= 1:\n",
    "        return a\n",
    "\n",
    "    #Split array in k parts\n",
    "    else:\n",
    "        part = int(len(a)/k)\n",
    "        #Since clever trick with if len(a)==2, doesn't generalize beyond k=3\n",
    "        #We need a general solution for the case where len(a)%k != 0. Thus,\n",
    "        #We create a a boolean that will be true for len(a)%k subarrays\n",
    "        remainder = len(a)%k\n",
    "        \n",
    "        #For indexing to work for all k, we need a variable to \n",
    "        #store the end of the last subarray. It will be the start of the new one\n",
    "        end = 0\n",
    "        \n",
    "        #for the comparison procedure to generalize to k subarrays\n",
    "        #we need to store all subarrays in a list\n",
    "        #We can then compare the first element in every list of the list\n",
    "        subarrays = []\n",
    "        \n",
    "        mx = max(a)+1\n",
    "        for p in range(k):\n",
    "            \n",
    "            #check if part should be one larger\n",
    "            if p < remainder:\n",
    "                subarrays.append(kway_merge_sort(a[end:end+part+1],k) + [mx])\n",
    "                end = end+part+1\n",
    "            else:\n",
    "                subarrays.append(kway_merge_sort(a[end:end+part],k) + [mx])\n",
    "                end = end+part\n",
    "        \n",
    "        for i in range(len(a)):\n",
    "            #Smallest element in each subarray is competitor \n",
    "            #for smallest element in array\n",
    "            competitors = [subarray[0] for subarray in subarrays]\n",
    "            a[i] = min(competitors)\n",
    "            \n",
    "            #Increment list from which competitor was selected\n",
    "            position = competitors.index(a[i])\n",
    "            subarrays[position] = subarrays[position][1:]\n",
    "        \n",
    "        return a"
   ]
  },
  {
   "cell_type": "code",
   "execution_count": 16,
   "metadata": {},
   "outputs": [
    {
     "data": {
      "text/plain": [
       "True"
      ]
     },
     "execution_count": 16,
     "metadata": {},
     "output_type": "execute_result"
    }
   ],
   "source": [
    "#Check if merge_insertion_sort_3 works for different a and t\n",
    "#by comparing to built-in sort function\n",
    "import numpy as np\n",
    "\n",
    "def kway_merge_sort_checker():\n",
    "    j = 0\n",
    "    correct = True\n",
    "    #Check for different values of t\n",
    "    for k in range(2, 10):\n",
    "        \n",
    "        #Check up to 50 times\n",
    "        while j <= 50 and correct:\n",
    "            \n",
    "            #On random list of length between 0 and 1000, \n",
    "            #with values between -100 and 100\n",
    "            test_array = list(np.random.randint(\n",
    "                -100, 100, np.random.randint(0, 1000, 1)))\n",
    "            a = test_array\n",
    "            a.sort()\n",
    "            \n",
    "            #If sorted arrays don't match, return False\n",
    "            if a != kway_merge_sort(test_array, k):\n",
    "                correct = False\n",
    "            \n",
    "            #increment j\n",
    "            j += 1\n",
    "            \n",
    "    return correct\n",
    "\n",
    "kway_merge_sort_checker()"
   ]
  },
  {
   "cell_type": "markdown",
   "metadata": {},
   "source": [
    "# Reusing code from Merge-Insertion sort to find best value for k"
   ]
  },
  {
   "cell_type": "code",
   "execution_count": 17,
   "metadata": {},
   "outputs": [],
   "source": [
    "#Evaluating optimal value for k by comparing run times\n",
    "\n",
    "import time\n",
    "import numpy as np\n",
    "\n",
    "t5_time = []\n",
    "t10_time = []\n",
    "t20_time = []\n",
    "t45_time = []\n",
    "t70_time = []\n",
    "t100_time = []\n",
    "t200_time = []\n",
    "t500_time = []\n",
    "#insertion_time = []\n",
    "\n",
    "i = 5 #Number of times to run random arrays of size n\n",
    "\n",
    "ns = [n for n in range(5, 10010, 1000)]\n",
    "for n in ns:\n",
    "    t5_temp = 0\n",
    "    t10_temp = 0\n",
    "    t20_temp = 0\n",
    "    t45_temp = 0\n",
    "    t70_temp = 0\n",
    "    t100_temp = 0\n",
    "    t200_temp = 0\n",
    "    t500_temp = 0\n",
    "    #insertion_temp = 0\n",
    "    for _ in range(i):\n",
    "        \n",
    "        #t=2\n",
    "        start1 = time.time()\n",
    "        kway_merge_sort(\n",
    "            list(np.random.randint(-100, 100, n)), 2)\n",
    "        end1 = time.time()\n",
    "        t5_temp += (end1 - start1)\n",
    "        \n",
    "        #t=3\n",
    "        start2 = time.time()\n",
    "        kway_merge_sort(\n",
    "            list(np.random.randint(-100, 100, n)), 3)\n",
    "        end2 = time.time()\n",
    "        t10_temp += (end2 - start2)\n",
    "        \n",
    "        #t=4\n",
    "        start3 = time.time()\n",
    "        kway_merge_sort(\n",
    "            list(np.random.randint(-100, 100, n)), 4)\n",
    "        end3 = time.time()\n",
    "        t20_temp += (end3 - start3)\n",
    "        \n",
    "        #t=5\n",
    "        start4 = time.time()\n",
    "        kway_merge_sort(\n",
    "            list(np.random.randint(-100, 100, n)), 5)\n",
    "        end4 = time.time()\n",
    "        t45_temp += (end4 - start4)\n",
    "        \n",
    "        #t=15\n",
    "        start5 = time.time()\n",
    "        kway_merge_sort(\n",
    "            list(np.random.randint(-100, 100, n)), 10)\n",
    "        end5 = time.time()\n",
    "        t70_temp += (end5- start5)\n",
    "        \n",
    "        #t=30\n",
    "        start6 = time.time()\n",
    "        kway_merge_sort(\n",
    "            list(np.random.randint(-100, 100, n)), 20)\n",
    "        end6 = time.time()\n",
    "        t100_temp += (end6 - start6)\n",
    "    \n",
    "        #t=50\n",
    "        start7 = time.time()\n",
    "        kway_merge_sort(\n",
    "            list(np.random.randint(-100, 100, n)), 50)\n",
    "        end7 = time.time()\n",
    "        t200_temp += (end7 - start7)\n",
    "        \n",
    " \n",
    "        #t100\n",
    "        start8 = time.time()\n",
    "        kway_merge_sort(\n",
    "            list(np.random.randint(-100, 100, n)), 100)\n",
    "        end8 = time.time()\n",
    "        t500_temp += (end8 - start8)\n",
    "        \n",
    "\n",
    "    t5_time.append(t5_temp/i)\n",
    "    t10_time.append(t10_temp/i)\n",
    "    t20_time.append(t20_temp/i)\n",
    "    t45_time.append(t45_temp/i)\n",
    "    t70_time.append(t70_temp/i)\n",
    "    t100_time.append(t100_temp/i)\n",
    "    t200_time.append(t200_temp/i)\n",
    "    t500_time.append(t500_temp/i)\n",
    "    #insertion_time.append(insertion_temp/i)"
   ]
  },
  {
   "cell_type": "code",
   "execution_count": 18,
   "metadata": {},
   "outputs": [
    {
     "data": {
      "image/png": "[encoded data removed]",
      "text/plain": [
       "<Figure size 432x288 with 1 Axes>"
      ]
     },
     "metadata": {
      "needs_background": "light"
     },
     "output_type": "display_data"
    }
   ],
   "source": [
    "import matplotlib.pyplot as plt\n",
    "#ns = [n for n in range(5, 110, 5)]\n",
    "ns = [n for n in range(5, 10010, 1000)]\n",
    "\n",
    "plt.plot(ns,t5_time, label = \"k=2\")\n",
    "plt.plot(ns,t10_time, label = \"k=3\")\n",
    "plt.plot(ns,t20_time, label = \"k=4\")\n",
    "plt.plot(ns,t45_time, label = \"k=5\")\n",
    "plt.plot(ns,t70_time, label = \"k=10\")\n",
    "plt.plot(ns,t100_time, label = \"k=20\")\n",
    "plt.plot(ns,t200_time, label = \"k=50\")\n",
    "plt.plot(ns,t500_time, label = \"k=100\")\n",
    "#plt.plot(ns,insertion_time, label = \"t=500\")\n",
    "\n",
    "\n",
    "plt.title(\"Run Time K-Merge Sort Algorithm\")\n",
    "plt.xlabel(\"n\")\n",
    "plt.ylabel(\"Runtime (s)\")\n",
    "plt.legend(loc=0)\n",
    "plt.show()"
   ]
  },
  {
   "cell_type": "code",
   "execution_count": 19,
   "metadata": {},
   "outputs": [],
   "source": [
    "#Evaluating optimal value for k by comparing run times\n",
    "\n",
    "import time\n",
    "import numpy as np\n",
    "\n",
    "t5_time = []\n",
    "t10_time = []\n",
    "t20_time = []\n",
    "t45_time = []\n",
    "t70_time = []\n",
    "t100_time = []\n",
    "t200_time = []\n",
    "t500_time = []\n",
    "#insertion_time = []\n",
    "\n",
    "i = 5 #Number of times to run random arrays of size n\n",
    "\n",
    "ns = [n for n in range(5, 25010, 1000)]\n",
    "for n in ns:\n",
    "    t5_temp = 0\n",
    "    t10_temp = 0\n",
    "    t20_temp = 0\n",
    "    t45_temp = 0\n",
    "    t70_temp = 0\n",
    "    t100_temp = 0\n",
    "    t200_temp = 0\n",
    "    t500_temp = 0\n",
    "    #insertion_temp = 0\n",
    "    for _ in range(i):\n",
    "        \n",
    "        #t=2\n",
    "        start1 = time.time()\n",
    "        kway_merge_sort(\n",
    "            list(np.random.randint(-100, 100, n)), 10)\n",
    "        end1 = time.time()\n",
    "        t5_temp += (end1 - start1)\n",
    "        \n",
    "        #t=3\n",
    "        start2 = time.time()\n",
    "        kway_merge_sort(\n",
    "            list(np.random.randint(-100, 100, n)), 13)\n",
    "        end2 = time.time()\n",
    "        t10_temp += (end2 - start2)\n",
    "        \n",
    "        #t=4\n",
    "        start3 = time.time()\n",
    "        kway_merge_sort(\n",
    "            list(np.random.randint(-100, 100, n)), 16)\n",
    "        end3 = time.time()\n",
    "        t20_temp += (end3 - start3)\n",
    "        \n",
    "        #t=5\n",
    "        start4 = time.time()\n",
    "        kway_merge_sort(\n",
    "            list(np.random.randint(-100, 100, n)), 20)\n",
    "        end4 = time.time()\n",
    "        t45_temp += (end4 - start4)\n",
    "        \n",
    "        #t=15\n",
    "        start5 = time.time()\n",
    "        kway_merge_sort(\n",
    "            list(np.random.randint(-100, 100, n)), 25)\n",
    "        end5 = time.time()\n",
    "        t70_temp += (end5- start5)\n",
    "        \n",
    "        #t=30\n",
    "        start6 = time.time()\n",
    "        kway_merge_sort(\n",
    "            list(np.random.randint(-100, 100, n)), 30)\n",
    "        end6 = time.time()\n",
    "        t100_temp += (end6 - start6)\n",
    "        \n",
    "\n",
    "    t5_time.append(t5_temp/i)\n",
    "    t10_time.append(t10_temp/i)\n",
    "    t20_time.append(t20_temp/i)\n",
    "    t45_time.append(t45_temp/i)\n",
    "    t70_time.append(t70_temp/i)\n",
    "    t100_time.append(t100_temp/i)\n",
    "\n",
    "    #insertion_time.append(insertion_temp/i)"
   ]
  },
  {
   "cell_type": "code",
   "execution_count": 20,
   "metadata": {},
   "outputs": [
    {
     "data": {
      "image/png": "[encoded data removed]",
      "text/plain": [
       "<Figure size 432x288 with 1 Axes>"
      ]
     },
     "metadata": {
      "needs_background": "light"
     },
     "output_type": "display_data"
    }
   ],
   "source": [
    "import matplotlib.pyplot as plt\n",
    "#ns = [n for n in range(5, 110, 5)]\n",
    "ns = [n for n in range(5, 25010, 1000)]\n",
    "\n",
    "plt.plot(ns,t5_time, label = \"k=10\")\n",
    "plt.plot(ns,t10_time, label = \"k=13\")\n",
    "plt.plot(ns,t20_time, label = \"k=16\")\n",
    "plt.plot(ns,t45_time, label = \"k=20\")\n",
    "plt.plot(ns,t70_time, label = \"k=25\")\n",
    "plt.plot(ns,t100_time, label = \"k=30\")\n",
    "\n",
    "\n",
    "#plt.plot(ns,insertion_time, label = \"t=500\")\n",
    "\n",
    "\n",
    "plt.title(\"Run Time K-Merge Sort Algorithm\")\n",
    "plt.xlabel(\"n\")\n",
    "plt.ylabel(\"Runtime (s)\")\n",
    "plt.legend(loc=0)\n",
    "plt.show()"
   ]
  },
  {
   "cell_type": "code",
   "execution_count": 21,
   "metadata": {},
   "outputs": [],
   "source": [
    "#Evaluating optimal value for k by comparing run times\n",
    "\n",
    "import time\n",
    "import numpy as np\n",
    "\n",
    "t5_time = []\n",
    "t10_time = []\n",
    "t20_time = []\n",
    "t45_time = []\n",
    "t70_time = []\n",
    "t100_time = []\n",
    "t200_time = []\n",
    "t500_time = []\n",
    "#insertion_time = []\n",
    "\n",
    "i = 5 #Number of times to run random arrays of size n\n",
    "\n",
    "ns = [n for n in range(5, 25010, 1000)]\n",
    "for n in ns:\n",
    "    t5_temp = 0\n",
    "    t10_temp = 0\n",
    "    t20_temp = 0\n",
    "    t45_temp = 0\n",
    "    t70_temp = 0\n",
    "    t100_temp = 0\n",
    "    t200_temp = 0\n",
    "    t500_temp = 0\n",
    "    #insertion_temp = 0\n",
    "    for _ in range(i):\n",
    "        \n",
    "        #t=2\n",
    "        start1 = time.time()\n",
    "        kway_merge_sort(\n",
    "            list(np.random.randint(-100, 100, n)), 10)\n",
    "        end1 = time.time()\n",
    "        t5_temp += (end1 - start1)\n",
    "        \n",
    "        #t=3\n",
    "        start2 = time.time()\n",
    "        kway_merge_sort(\n",
    "            list(np.random.randint(-100, 100, n)), 11)\n",
    "        end2 = time.time()\n",
    "        t10_temp += (end2 - start2)\n",
    "        \n",
    "        #t=4\n",
    "        start3 = time.time()\n",
    "        kway_merge_sort(\n",
    "            list(np.random.randint(-100, 100, n)), 12)\n",
    "        end3 = time.time()\n",
    "        t20_temp += (end3 - start3)\n",
    "        \n",
    "        #t=5\n",
    "        start4 = time.time()\n",
    "        kway_merge_sort(\n",
    "            list(np.random.randint(-100, 100, n)), 13)\n",
    "        end4 = time.time()\n",
    "        t45_temp += (end4 - start4)\n",
    "        \n",
    "        #t=15\n",
    "        start5 = time.time()\n",
    "        kway_merge_sort(\n",
    "            list(np.random.randint(-100, 100, n)), 14)\n",
    "        end5 = time.time()\n",
    "        t70_temp += (end5- start5)\n",
    "        \n",
    "        #t=30\n",
    "        start6 = time.time()\n",
    "        kway_merge_sort(\n",
    "            list(np.random.randint(-100, 100, n)), 15)\n",
    "        end6 = time.time()\n",
    "        t100_temp += (end6 - start6)\n",
    "        \n",
    "\n",
    "    t5_time.append(t5_temp/i)\n",
    "    t10_time.append(t10_temp/i)\n",
    "    t20_time.append(t20_temp/i)\n",
    "    t45_time.append(t45_temp/i)\n",
    "    t70_time.append(t70_temp/i)\n",
    "    t100_time.append(t100_temp/i)\n",
    "\n",
    "    #insertion_time.append(insertion_temp/i)"
   ]
  },
  {
   "cell_type": "code",
   "execution_count": 22,
   "metadata": {},
   "outputs": [
    {
     "data": {
      "image/png": "[encoded data removed]",
      "text/plain": [
       "<Figure size 432x288 with 1 Axes>"
      ]
     },
     "metadata": {
      "needs_background": "light"
     },
     "output_type": "display_data"
    }
   ],
   "source": [
    "import matplotlib.pyplot as plt\n",
    "#ns = [n for n in range(5, 110, 5)]\n",
    "ns = [n for n in range(5, 25010, 1000)]\n",
    "\n",
    "plt.plot(ns,t5_time, label = \"k=10\")\n",
    "plt.plot(ns,t10_time, label = \"k=11\")\n",
    "plt.plot(ns,t20_time, label = \"k=12\")\n",
    "plt.plot(ns,t45_time, label = \"k=13\")\n",
    "plt.plot(ns,t70_time, label = \"k=14\")\n",
    "plt.plot(ns,t100_time, label = \"k=15\")\n",
    "\n",
    "\n",
    "#plt.plot(ns,insertion_time, label = \"t=500\")\n",
    "\n",
    "\n",
    "plt.title(\"Run Time K-Merge Sort Algorithm\")\n",
    "plt.xlabel(\"n\")\n",
    "plt.ylabel(\"Runtime (s)\")\n",
    "plt.legend(loc=0)\n",
    "plt.show()"
   ]
  },
  {
   "cell_type": "code",
   "execution_count": null,
   "metadata": {},
   "outputs": [],
   "source": []
  },
  {
   "cell_type": "code",
   "execution_count": null,
   "metadata": {},
   "outputs": [],
   "source": []
  }
 ],
 "metadata": {
  "kernelspec": {
   "display_name": "Python 3",
   "language": "python",
   "name": "python3"
  },
  "language_info": {
   "codemirror_mode": {
    "name": "ipython",
    "version": 3
   },
   "file_extension": ".py",
   "mimetype": "text/x-python",
   "name": "python",
   "nbconvert_exporter": "python",
   "pygments_lexer": "ipython3",
   "version": "3.6.9"
  }
 },
 "nbformat": 4,
 "nbformat_minor": 2
}
